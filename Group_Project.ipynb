{
 "cells": [
  {
   "cell_type": "markdown",
   "id": "7846f673-ac28-4542-815b-86e4cd425651",
   "metadata": {},
   "source": [
    "# Predicting House Value in Boston"
   ]
  },
  {
   "cell_type": "markdown",
   "id": "23d356c7-e28a-4900-83f3-95cd01639839",
   "metadata": {},
   "source": [
    "## 1. Introduction"
   ]
  },
  {
   "cell_type": "markdown",
   "id": "618f5ff6-b36b-43b7-a16c-d4595956e1ae",
   "metadata": {},
   "source": [
    "## 2. Exploratory Data Analysis"
   ]
  },
  {
   "cell_type": "code",
   "execution_count": 1,
   "id": "81f56891-ecd7-4120-a1bc-fdb18ad612d0",
   "metadata": {},
   "outputs": [
    {
     "name": "stderr",
     "output_type": "stream",
     "text": [
      "── \u001b[1mAttaching packages\u001b[22m ─────────────────────────────────────── tidyverse 1.3.2 ──\n",
      "\u001b[32m✔\u001b[39m \u001b[34mggplot2\u001b[39m 3.3.6      \u001b[32m✔\u001b[39m \u001b[34mpurrr  \u001b[39m 0.3.4 \n",
      "\u001b[32m✔\u001b[39m \u001b[34mtibble \u001b[39m 3.1.8      \u001b[32m✔\u001b[39m \u001b[34mdplyr  \u001b[39m 1.0.10\n",
      "\u001b[32m✔\u001b[39m \u001b[34mtidyr  \u001b[39m 1.2.1      \u001b[32m✔\u001b[39m \u001b[34mstringr\u001b[39m 1.4.1 \n",
      "\u001b[32m✔\u001b[39m \u001b[34mreadr  \u001b[39m 2.1.2      \u001b[32m✔\u001b[39m \u001b[34mforcats\u001b[39m 0.5.2 \n",
      "── \u001b[1mConflicts\u001b[22m ────────────────────────────────────────── tidyverse_conflicts() ──\n",
      "\u001b[31m✖\u001b[39m \u001b[34mdplyr\u001b[39m::\u001b[32mfilter()\u001b[39m masks \u001b[34mstats\u001b[39m::filter()\n",
      "\u001b[31m✖\u001b[39m \u001b[34mdplyr\u001b[39m::\u001b[32mlag()\u001b[39m    masks \u001b[34mstats\u001b[39m::lag()\n",
      "\n",
      "Attaching package: ‘gridExtra’\n",
      "\n",
      "\n",
      "The following object is masked from ‘package:dplyr’:\n",
      "\n",
      "    combine\n",
      "\n",
      "\n",
      "\n",
      "Attaching package: ‘mltools’\n",
      "\n",
      "\n",
      "The following object is masked from ‘package:tidyr’:\n",
      "\n",
      "    replace_na\n",
      "\n",
      "\n",
      "Loading required package: Matrix\n",
      "\n",
      "\n",
      "Attaching package: ‘Matrix’\n",
      "\n",
      "\n",
      "The following objects are masked from ‘package:tidyr’:\n",
      "\n",
      "    expand, pack, unpack\n",
      "\n",
      "\n",
      "Loaded glmnet 4.1-4\n",
      "\n",
      "Loading required package: car\n",
      "\n",
      "Loading required package: carData\n",
      "\n",
      "\n",
      "Attaching package: ‘car’\n",
      "\n",
      "\n",
      "The following objects are masked from ‘package:faraway’:\n",
      "\n",
      "    logit, vif\n",
      "\n",
      "\n",
      "The following object is masked from ‘package:dplyr’:\n",
      "\n",
      "    recode\n",
      "\n",
      "\n",
      "The following object is masked from ‘package:purrr’:\n",
      "\n",
      "    some\n",
      "\n",
      "\n",
      "Loading required package: lmtest\n",
      "\n",
      "Loading required package: zoo\n",
      "\n",
      "\n",
      "Attaching package: ‘zoo’\n",
      "\n",
      "\n",
      "The following objects are masked from ‘package:base’:\n",
      "\n",
      "    as.Date, as.Date.numeric\n",
      "\n",
      "\n",
      "Loading required package: sandwich\n",
      "\n",
      "Loading required package: survival\n",
      "\n",
      "\n",
      "Attaching package: ‘survival’\n",
      "\n",
      "\n",
      "The following objects are masked from ‘package:faraway’:\n",
      "\n",
      "    rats, solder\n",
      "\n",
      "\n",
      "Registered S3 method overwritten by 'GGally':\n",
      "  method from   \n",
      "  +.gg   ggplot2\n",
      "\n",
      "\n",
      "Attaching package: ‘GGally’\n",
      "\n",
      "\n",
      "The following object is masked from ‘package:faraway’:\n",
      "\n",
      "    happy\n",
      "\n",
      "\n"
     ]
    }
   ],
   "source": [
    "options(repr.plot.width=8, repr.plot.height=6)\n",
    "library(broom)\n",
    "library(tidyverse)\n",
    "library(infer)\n",
    "library(repr)\n",
    "library(digest)\n",
    "library(gridExtra)\n",
    "library(faraway)\n",
    "library(mltools)\n",
    "library(leaps)\n",
    "library(glmnet)\n",
    "library(cowplot)\n",
    "library(AER)\n",
    "library(GGally)"
   ]
  },
  {
   "cell_type": "markdown",
   "id": "a5d7a86c-a787-4e0b-9c20-2ee965c25cb5",
   "metadata": {},
   "source": [
    "Reading dataset and assigning names to each column"
   ]
  },
  {
   "cell_type": "code",
   "execution_count": 2,
   "id": "4dd3592c-50e9-4ab3-ba2b-9a0f449adf70",
   "metadata": {},
   "outputs": [
    {
     "name": "stderr",
     "output_type": "stream",
     "text": [
      "\u001b[1mRows: \u001b[22m\u001b[34m506\u001b[39m \u001b[1mColumns: \u001b[22m\u001b[34m1\u001b[39m\n",
      "\u001b[36m──\u001b[39m \u001b[1mColumn specification\u001b[22m \u001b[36m────────────────────────────────────────────────────────\u001b[39m\n",
      "\u001b[1mDelimiter:\u001b[22m \"\\t\"\n",
      "\u001b[31mchr\u001b[39m (1): X1\n",
      "\n",
      "\u001b[36mℹ\u001b[39m Use `spec()` to retrieve the full column specification for this data.\n",
      "\u001b[36mℹ\u001b[39m Specify the column types or set `show_col_types = FALSE` to quiet this message.\n",
      "Warning message:\n",
      "“Expected 13 pieces. Additional pieces discarded in 24 rows [103, 156, 157, 417, 420, 424, 425, 426, 427, 428, 429, 430, 431, 432, 433, 437, 439, 446, 451, 455, ...].”\n",
      "Warning message:\n",
      "“Expected 13 pieces. Missing pieces filled with `NA` in 42 rows [9, 24, 32, 58, 142, 143, 144, 146, 147, 152, 159, 160, 210, 259, 260, 352, 353, 354, 355, 356, ...].”\n",
      "Warning message:\n",
      "“Expected 2 pieces. Missing pieces filled with `NA` in 59 rows [9, 24, 32, 103, 142, 143, 144, 146, 147, 152, 156, 157, 210, 368, 374, 375, 380, 383, 384, 387, ...].”\n",
      "Warning message in mask$eval_all_mutate(quo):\n",
      "“NAs introduced by coercion”\n",
      "Warning message in mask$eval_all_mutate(quo):\n",
      "“NAs introduced by coercion”\n",
      "Warning message in mask$eval_all_mutate(quo):\n",
      "“NAs introduced by coercion”\n",
      "Warning message in mask$eval_all_mutate(quo):\n",
      "“NAs introduced by coercion”\n"
     ]
    },
    {
     "data": {
      "text/html": [
       "<table class=\"dataframe\">\n",
       "<caption>A tibble: 6 × 14</caption>\n",
       "<thead>\n",
       "\t<tr><th scope=col>CRIM</th><th scope=col>ZN</th><th scope=col>INDUS</th><th scope=col>CHAS</th><th scope=col>NOX</th><th scope=col>RM</th><th scope=col>AGE</th><th scope=col>DIS</th><th scope=col>RAD</th><th scope=col>TAX</th><th scope=col>PTRATIO</th><th scope=col>B</th><th scope=col>LSTAT</th><th scope=col>MEDV</th></tr>\n",
       "\t<tr><th scope=col>&lt;dbl&gt;</th><th scope=col>&lt;dbl&gt;</th><th scope=col>&lt;dbl&gt;</th><th scope=col>&lt;dbl&gt;</th><th scope=col>&lt;dbl&gt;</th><th scope=col>&lt;dbl&gt;</th><th scope=col>&lt;dbl&gt;</th><th scope=col>&lt;dbl&gt;</th><th scope=col>&lt;dbl&gt;</th><th scope=col>&lt;dbl&gt;</th><th scope=col>&lt;dbl&gt;</th><th scope=col>&lt;dbl&gt;</th><th scope=col>&lt;dbl&gt;</th><th scope=col>&lt;dbl&gt;</th></tr>\n",
       "</thead>\n",
       "<tbody>\n",
       "\t<tr><td>0.00632</td><td>18</td><td>2.31</td><td>0</td><td>0.538</td><td>6.575</td><td>65.2</td><td>4.0900</td><td>1</td><td>296</td><td>15.3</td><td>396.90</td><td>4.98</td><td>24.0</td></tr>\n",
       "\t<tr><td>0.02731</td><td> 0</td><td>7.07</td><td>0</td><td>0.469</td><td>6.421</td><td>78.9</td><td>4.9671</td><td>2</td><td>242</td><td>17.8</td><td>396.90</td><td>9.14</td><td>21.6</td></tr>\n",
       "\t<tr><td>0.02729</td><td> 0</td><td>7.07</td><td>0</td><td>0.469</td><td>7.185</td><td>61.1</td><td>4.9671</td><td>2</td><td>242</td><td>17.8</td><td>392.83</td><td>4.03</td><td>34.7</td></tr>\n",
       "\t<tr><td>0.03237</td><td> 0</td><td>2.18</td><td>0</td><td>0.458</td><td>6.998</td><td>45.8</td><td>6.0622</td><td>3</td><td>222</td><td>18.7</td><td>394.63</td><td>2.94</td><td>33.4</td></tr>\n",
       "\t<tr><td>0.06905</td><td> 0</td><td>2.18</td><td>0</td><td>0.458</td><td>7.147</td><td>54.2</td><td>6.0622</td><td>3</td><td>222</td><td>18.7</td><td>396.90</td><td>5.33</td><td>36.2</td></tr>\n",
       "\t<tr><td>0.02985</td><td> 0</td><td>2.18</td><td>0</td><td>0.458</td><td>6.430</td><td>58.7</td><td>6.0622</td><td>3</td><td>222</td><td>18.7</td><td>394.12</td><td>5.21</td><td>28.7</td></tr>\n",
       "</tbody>\n",
       "</table>\n"
      ],
      "text/latex": [
       "A tibble: 6 × 14\n",
       "\\begin{tabular}{llllllllllllll}\n",
       " CRIM & ZN & INDUS & CHAS & NOX & RM & AGE & DIS & RAD & TAX & PTRATIO & B & LSTAT & MEDV\\\\\n",
       " <dbl> & <dbl> & <dbl> & <dbl> & <dbl> & <dbl> & <dbl> & <dbl> & <dbl> & <dbl> & <dbl> & <dbl> & <dbl> & <dbl>\\\\\n",
       "\\hline\n",
       "\t 0.00632 & 18 & 2.31 & 0 & 0.538 & 6.575 & 65.2 & 4.0900 & 1 & 296 & 15.3 & 396.90 & 4.98 & 24.0\\\\\n",
       "\t 0.02731 &  0 & 7.07 & 0 & 0.469 & 6.421 & 78.9 & 4.9671 & 2 & 242 & 17.8 & 396.90 & 9.14 & 21.6\\\\\n",
       "\t 0.02729 &  0 & 7.07 & 0 & 0.469 & 7.185 & 61.1 & 4.9671 & 2 & 242 & 17.8 & 392.83 & 4.03 & 34.7\\\\\n",
       "\t 0.03237 &  0 & 2.18 & 0 & 0.458 & 6.998 & 45.8 & 6.0622 & 3 & 222 & 18.7 & 394.63 & 2.94 & 33.4\\\\\n",
       "\t 0.06905 &  0 & 2.18 & 0 & 0.458 & 7.147 & 54.2 & 6.0622 & 3 & 222 & 18.7 & 396.90 & 5.33 & 36.2\\\\\n",
       "\t 0.02985 &  0 & 2.18 & 0 & 0.458 & 6.430 & 58.7 & 6.0622 & 3 & 222 & 18.7 & 394.12 & 5.21 & 28.7\\\\\n",
       "\\end{tabular}\n"
      ],
      "text/markdown": [
       "\n",
       "A tibble: 6 × 14\n",
       "\n",
       "| CRIM &lt;dbl&gt; | ZN &lt;dbl&gt; | INDUS &lt;dbl&gt; | CHAS &lt;dbl&gt; | NOX &lt;dbl&gt; | RM &lt;dbl&gt; | AGE &lt;dbl&gt; | DIS &lt;dbl&gt; | RAD &lt;dbl&gt; | TAX &lt;dbl&gt; | PTRATIO &lt;dbl&gt; | B &lt;dbl&gt; | LSTAT &lt;dbl&gt; | MEDV &lt;dbl&gt; |\n",
       "|---|---|---|---|---|---|---|---|---|---|---|---|---|---|\n",
       "| 0.00632 | 18 | 2.31 | 0 | 0.538 | 6.575 | 65.2 | 4.0900 | 1 | 296 | 15.3 | 396.90 | 4.98 | 24.0 |\n",
       "| 0.02731 |  0 | 7.07 | 0 | 0.469 | 6.421 | 78.9 | 4.9671 | 2 | 242 | 17.8 | 396.90 | 9.14 | 21.6 |\n",
       "| 0.02729 |  0 | 7.07 | 0 | 0.469 | 7.185 | 61.1 | 4.9671 | 2 | 242 | 17.8 | 392.83 | 4.03 | 34.7 |\n",
       "| 0.03237 |  0 | 2.18 | 0 | 0.458 | 6.998 | 45.8 | 6.0622 | 3 | 222 | 18.7 | 394.63 | 2.94 | 33.4 |\n",
       "| 0.06905 |  0 | 2.18 | 0 | 0.458 | 7.147 | 54.2 | 6.0622 | 3 | 222 | 18.7 | 396.90 | 5.33 | 36.2 |\n",
       "| 0.02985 |  0 | 2.18 | 0 | 0.458 | 6.430 | 58.7 | 6.0622 | 3 | 222 | 18.7 | 394.12 | 5.21 | 28.7 |\n",
       "\n"
      ],
      "text/plain": [
       "  CRIM    ZN INDUS CHAS NOX   RM    AGE  DIS    RAD TAX PTRATIO B      LSTAT\n",
       "1 0.00632 18 2.31  0    0.538 6.575 65.2 4.0900 1   296 15.3    396.90 4.98 \n",
       "2 0.02731  0 7.07  0    0.469 6.421 78.9 4.9671 2   242 17.8    396.90 9.14 \n",
       "3 0.02729  0 7.07  0    0.469 7.185 61.1 4.9671 2   242 17.8    392.83 4.03 \n",
       "4 0.03237  0 2.18  0    0.458 6.998 45.8 6.0622 3   222 18.7    394.63 2.94 \n",
       "5 0.06905  0 2.18  0    0.458 7.147 54.2 6.0622 3   222 18.7    396.90 5.33 \n",
       "6 0.02985  0 2.18  0    0.458 6.430 58.7 6.0622 3   222 18.7    394.12 5.21 \n",
       "  MEDV\n",
       "1 24.0\n",
       "2 21.6\n",
       "3 34.7\n",
       "4 33.4\n",
       "5 36.2\n",
       "6 28.7"
      ]
     },
     "metadata": {},
     "output_type": "display_data"
    }
   ],
   "source": [
    "boston_data <-read_tsv(\"dataset.txt\",\n",
    "                      col_names=FALSE) %>%\n",
    "    separate(col=X1,\n",
    "             into=c(\"CRIM\",\"ZN\",\"INDUS\",\"CHAS\",\"NOX\",\"RM\",\"AGE\",\"DIS\",\"RAD\",\"TAX\",\"PTRATIO\",\"LSTAT\",\"MEDV\"),\n",
    "             sep=\"  \") %>%\n",
    "    separate(col=PTRATIO,\n",
    "             into=c(\"PTRATIO\",\"B\"),\n",
    "             sep=\" \") %>%\n",
    "    mutate_if(is.character,as.numeric) \n",
    "\n",
    "head(boston_data)"
   ]
  },
  {
   "cell_type": "markdown",
   "id": "efc2b629-3226-45c4-8205-6a3c074c79e7",
   "metadata": {},
   "source": [
    "The dataset has missing entries (NA) which we will remove from the dataset. The variable CHAS is a categorical variable, so we will make it as factor instead of dbl."
   ]
  },
  {
   "cell_type": "code",
   "execution_count": 3,
   "id": "aeaf08b6-8e13-4958-bc2c-7f646899f186",
   "metadata": {},
   "outputs": [],
   "source": [
    "boston_data <- na.omit(boston_data)\n",
    "boston_data$CHAS <- as.factor(boston_data$CHAS)"
   ]
  },
  {
   "cell_type": "markdown",
   "id": "8acb807f-a368-4eaf-a1b9-6d91ac7940a0",
   "metadata": {
    "tags": []
   },
   "source": [
    "## 3. Method"
   ]
  },
  {
   "cell_type": "markdown",
   "id": "f05cec96-1857-466e-93a0-080b5fcd4298",
   "metadata": {},
   "source": [
    "Splitting dataset into training and testing datasets (70/30 split)"
   ]
  },
  {
   "cell_type": "code",
   "execution_count": 4,
   "id": "fc4d7536-b906-4476-a8eb-fc7e7c4bcac6",
   "metadata": {},
   "outputs": [],
   "source": [
    "# Split data into training and test sets\n",
    "set.seed(301)\n",
    "\n",
    "boston_data$ID <- rownames(boston_data)\n",
    "\n",
    "training_boston <- sample_n(boston_data, size = nrow(boston_data) * 0.70,\n",
    "  replace = FALSE\n",
    ")\n",
    "\n",
    "testing_boston <- anti_join(boston_data,\n",
    "  training_boston,\n",
    "  by = \"ID\"\n",
    ")\n",
    "\n",
    "# Remove variable \"ID\"\n",
    "training_boston <- training_boston  %>% select(-ID)\n",
    "testing_boston <- testing_boston  %>% select(-ID)"
   ]
  },
  {
   "cell_type": "markdown",
   "id": "c784eca0-e4d6-4e8b-a712-d99a2fe32953",
   "metadata": {
    "tags": []
   },
   "source": [
    "### Full OLS"
   ]
  },
  {
   "cell_type": "markdown",
   "id": "8961d9ee-3622-4492-b093-8dc7aae75955",
   "metadata": {},
   "source": [
    "Using `lm` to build a full regression model (including all explanatory variables)"
   ]
  },
  {
   "cell_type": "code",
   "execution_count": 5,
   "id": "aff772df-8f13-4a0f-b1ae-0bfe2803cc8e",
   "metadata": {
    "tags": []
   },
   "outputs": [],
   "source": [
    "boston_OLS <- lm(MEDV ~ ., data = training_boston)"
   ]
  },
  {
   "cell_type": "markdown",
   "id": "74dce603-fcb5-4a6a-891d-95166d656e6c",
   "metadata": {},
   "source": [
    "Using OLS model to get fitted values on test set"
   ]
  },
  {
   "cell_type": "code",
   "execution_count": 6,
   "id": "afd63921-52ae-4540-a31c-95225790a292",
   "metadata": {},
   "outputs": [],
   "source": [
    "boston_test_OLS <- predict(boston_OLS, testing_boston)"
   ]
  },
  {
   "cell_type": "markdown",
   "id": "da8c0c60-e65d-4670-8110-d70974240787",
   "metadata": {},
   "source": [
    "Computing out-of-sample error (RMSE)"
   ]
  },
  {
   "cell_type": "code",
   "execution_count": 7,
   "id": "d5ca0747-008d-47b7-8a01-456527aff026",
   "metadata": {},
   "outputs": [
    {
     "data": {
      "text/html": [
       "<table class=\"dataframe\">\n",
       "<caption>A tibble: 1 × 2</caption>\n",
       "<thead>\n",
       "\t<tr><th scope=col>Model</th><th scope=col>R_MSE</th></tr>\n",
       "\t<tr><th scope=col>&lt;chr&gt;</th><th scope=col>&lt;dbl&gt;</th></tr>\n",
       "</thead>\n",
       "<tbody>\n",
       "\t<tr><td>OLS Full Regression</td><td>4.768423</td></tr>\n",
       "</tbody>\n",
       "</table>\n"
      ],
      "text/latex": [
       "A tibble: 1 × 2\n",
       "\\begin{tabular}{ll}\n",
       " Model & R\\_MSE\\\\\n",
       " <chr> & <dbl>\\\\\n",
       "\\hline\n",
       "\t OLS Full Regression & 4.768423\\\\\n",
       "\\end{tabular}\n"
      ],
      "text/markdown": [
       "\n",
       "A tibble: 1 × 2\n",
       "\n",
       "| Model &lt;chr&gt; | R_MSE &lt;dbl&gt; |\n",
       "|---|---|\n",
       "| OLS Full Regression | 4.768423 |\n",
       "\n"
      ],
      "text/plain": [
       "  Model               R_MSE   \n",
       "1 OLS Full Regression 4.768423"
      ]
     },
     "metadata": {},
     "output_type": "display_data"
    }
   ],
   "source": [
    "boston_OLS_MSE <- tibble(\n",
    "    Model = \"OLS Full Regression\",\n",
    "    R_MSE = rmse(\n",
    "      preds = boston_test_OLS,\n",
    "      actuals = testing_boston$MEDV)\n",
    "    )\n",
    "\n",
    "boston_OLS_MSE"
   ]
  },
  {
   "cell_type": "markdown",
   "id": "ce503417-dfd2-4ee3-926d-c2b72bab2267",
   "metadata": {},
   "source": [
    "### Forward/Backward Selection"
   ]
  },
  {
   "cell_type": "markdown",
   "id": "56faaa1e-c0eb-4556-8514-def230f44145",
   "metadata": {},
   "source": [
    "In this section, we will be using the forward and backward selection algorithm to determine which variables to consider in our reduced model. The forward selection algorithm will be used first, then the backward selection algorithm will follow. First, the regsubsets function is used for this process and 13 input variables are used for variable selection. This is because there are 14 variables in the original dataset, but 1 of them is the response variable; thus, we have 14 input variables."
   ]
  },
  {
   "cell_type": "code",
   "execution_count": 8,
   "id": "04c30ed5-386f-4f9d-94aa-eaa264d5876b",
   "metadata": {},
   "outputs": [
    {
     "data": {
      "text/plain": [
       "Subset selection object\n",
       "Call: regsubsets.formula(x = MEDV ~ ., nvmax = 13, data = training_boston, \n",
       "    method = \"forward\", )\n",
       "13 Variables  (and intercept)\n",
       "        Forced in Forced out\n",
       "CRIM        FALSE      FALSE\n",
       "ZN          FALSE      FALSE\n",
       "INDUS       FALSE      FALSE\n",
       "CHAS1       FALSE      FALSE\n",
       "NOX         FALSE      FALSE\n",
       "RM          FALSE      FALSE\n",
       "AGE         FALSE      FALSE\n",
       "DIS         FALSE      FALSE\n",
       "RAD         FALSE      FALSE\n",
       "TAX         FALSE      FALSE\n",
       "PTRATIO     FALSE      FALSE\n",
       "B           FALSE      FALSE\n",
       "LSTAT       FALSE      FALSE\n",
       "1 subsets of each size up to 13\n",
       "Selection Algorithm: forward\n",
       "          CRIM ZN  INDUS CHAS1 NOX RM  AGE DIS RAD TAX PTRATIO B   LSTAT\n",
       "1  ( 1 )  \" \"  \" \" \" \"   \" \"   \" \" \"*\" \" \" \" \" \" \" \" \" \" \"     \" \" \" \"  \n",
       "2  ( 1 )  \" \"  \" \" \" \"   \" \"   \" \" \"*\" \" \" \" \" \" \" \" \" \" \"     \" \" \"*\"  \n",
       "3  ( 1 )  \" \"  \" \" \" \"   \" \"   \" \" \"*\" \" \" \" \" \" \" \" \" \"*\"     \" \" \"*\"  \n",
       "4  ( 1 )  \" \"  \" \" \" \"   \"*\"   \" \" \"*\" \" \" \" \" \" \" \" \" \"*\"     \" \" \"*\"  \n",
       "5  ( 1 )  \"*\"  \" \" \" \"   \"*\"   \" \" \"*\" \" \" \" \" \" \" \" \" \"*\"     \" \" \"*\"  \n",
       "6  ( 1 )  \"*\"  \" \" \" \"   \"*\"   \" \" \"*\" \" \" \"*\" \" \" \" \" \"*\"     \" \" \"*\"  \n",
       "7  ( 1 )  \"*\"  \" \" \" \"   \"*\"   \" \" \"*\" \"*\" \"*\" \" \" \" \" \"*\"     \" \" \"*\"  \n",
       "8  ( 1 )  \"*\"  \" \" \"*\"   \"*\"   \" \" \"*\" \"*\" \"*\" \" \" \" \" \"*\"     \" \" \"*\"  \n",
       "9  ( 1 )  \"*\"  \"*\" \"*\"   \"*\"   \" \" \"*\" \"*\" \"*\" \" \" \" \" \"*\"     \" \" \"*\"  \n",
       "10  ( 1 ) \"*\"  \"*\" \"*\"   \"*\"   \" \" \"*\" \"*\" \"*\" \" \" \"*\" \"*\"     \" \" \"*\"  \n",
       "11  ( 1 ) \"*\"  \"*\" \"*\"   \"*\"   \" \" \"*\" \"*\" \"*\" \"*\" \"*\" \"*\"     \" \" \"*\"  \n",
       "12  ( 1 ) \"*\"  \"*\" \"*\"   \"*\"   \"*\" \"*\" \"*\" \"*\" \"*\" \"*\" \"*\"     \" \" \"*\"  \n",
       "13  ( 1 ) \"*\"  \"*\" \"*\"   \"*\"   \"*\" \"*\" \"*\" \"*\" \"*\" \"*\" \"*\"     \"*\" \"*\"  "
      ]
     },
     "metadata": {},
     "output_type": "display_data"
    }
   ],
   "source": [
    "boston_forward_sel <- regsubsets(\n",
    "  x = MEDV ~ ., \n",
    "  nvmax = 13,\n",
    "  data = training_boston,\n",
    "  method = \"forward\",\n",
    ")\n",
    "\n",
    "boston_forward_sel <- summary(boston_forward_sel)\n",
    "boston_forward_sel"
   ]
  },
  {
   "cell_type": "markdown",
   "id": "4cb618dd-9dd3-4fc2-88b2-e3590c7ab422",
   "metadata": {},
   "source": [
    "The Cp for each number of variables is compared in the table below. By doing this, the optimal Cp value can be obtained and be used in the reduced model. From the table, below, the optimal number of variables is 10, since it has the lowest CP value. The variables selected for the reduced model are CRIM, CHAS, NOX, RM, AGE, DIS, RAD, TAX, PTRATIO, LSTAT."
   ]
  },
  {
   "cell_type": "code",
   "execution_count": 9,
   "id": "cc4bfd18-4698-4f20-992b-35c049457104",
   "metadata": {},
   "outputs": [
    {
     "data": {
      "text/html": [
       "<table class=\"dataframe\">\n",
       "<caption>A tibble: 13 × 2</caption>\n",
       "<thead>\n",
       "\t<tr><th scope=col>n_input_variables</th><th scope=col>Cp</th></tr>\n",
       "\t<tr><th scope=col>&lt;int&gt;</th><th scope=col>&lt;dbl&gt;</th></tr>\n",
       "</thead>\n",
       "<tbody>\n",
       "\t<tr><td> 1</td><td>235.25196</td></tr>\n",
       "\t<tr><td> 2</td><td>120.93780</td></tr>\n",
       "\t<tr><td> 3</td><td> 77.86717</td></tr>\n",
       "\t<tr><td> 4</td><td> 49.90377</td></tr>\n",
       "\t<tr><td> 5</td><td> 39.29718</td></tr>\n",
       "\t<tr><td> 6</td><td> 30.71762</td></tr>\n",
       "\t<tr><td> 7</td><td> 17.30393</td></tr>\n",
       "\t<tr><td> 8</td><td> 15.63995</td></tr>\n",
       "\t<tr><td> 9</td><td> 16.40090</td></tr>\n",
       "\t<tr><td>10</td><td> 17.04106</td></tr>\n",
       "\t<tr><td>11</td><td> 11.52707</td></tr>\n",
       "\t<tr><td>12</td><td> 12.39886</td></tr>\n",
       "\t<tr><td>13</td><td> 14.00000</td></tr>\n",
       "</tbody>\n",
       "</table>\n"
      ],
      "text/latex": [
       "A tibble: 13 × 2\n",
       "\\begin{tabular}{ll}\n",
       " n\\_input\\_variables & Cp\\\\\n",
       " <int> & <dbl>\\\\\n",
       "\\hline\n",
       "\t  1 & 235.25196\\\\\n",
       "\t  2 & 120.93780\\\\\n",
       "\t  3 &  77.86717\\\\\n",
       "\t  4 &  49.90377\\\\\n",
       "\t  5 &  39.29718\\\\\n",
       "\t  6 &  30.71762\\\\\n",
       "\t  7 &  17.30393\\\\\n",
       "\t  8 &  15.63995\\\\\n",
       "\t  9 &  16.40090\\\\\n",
       "\t 10 &  17.04106\\\\\n",
       "\t 11 &  11.52707\\\\\n",
       "\t 12 &  12.39886\\\\\n",
       "\t 13 &  14.00000\\\\\n",
       "\\end{tabular}\n"
      ],
      "text/markdown": [
       "\n",
       "A tibble: 13 × 2\n",
       "\n",
       "| n_input_variables &lt;int&gt; | Cp &lt;dbl&gt; |\n",
       "|---|---|\n",
       "|  1 | 235.25196 |\n",
       "|  2 | 120.93780 |\n",
       "|  3 |  77.86717 |\n",
       "|  4 |  49.90377 |\n",
       "|  5 |  39.29718 |\n",
       "|  6 |  30.71762 |\n",
       "|  7 |  17.30393 |\n",
       "|  8 |  15.63995 |\n",
       "|  9 |  16.40090 |\n",
       "| 10 |  17.04106 |\n",
       "| 11 |  11.52707 |\n",
       "| 12 |  12.39886 |\n",
       "| 13 |  14.00000 |\n",
       "\n"
      ],
      "text/plain": [
       "   n_input_variables Cp       \n",
       "1   1                235.25196\n",
       "2   2                120.93780\n",
       "3   3                 77.86717\n",
       "4   4                 49.90377\n",
       "5   5                 39.29718\n",
       "6   6                 30.71762\n",
       "7   7                 17.30393\n",
       "8   8                 15.63995\n",
       "9   9                 16.40090\n",
       "10 10                 17.04106\n",
       "11 11                 11.52707\n",
       "12 12                 12.39886\n",
       "13 13                 14.00000"
      ]
     },
     "metadata": {},
     "output_type": "display_data"
    }
   ],
   "source": [
    "boston_forward_df <- tibble(\n",
    "    n_input_variables = 1:13,\n",
    "    Cp = boston_forward_sel$cp\n",
    ")\n",
    "boston_forward_df"
   ]
  },
  {
   "cell_type": "markdown",
   "id": "087cdc55-b8eb-4be7-bcad-a3502576ad5a",
   "metadata": {},
   "source": [
    "From here, a linear model is fit with the 10 chosen varaibles. Then a prediction is made reduced linear model and the testing set. Finally, the root mean squared error is calculated through the reduced OLS model."
   ]
  },
  {
   "cell_type": "code",
   "execution_count": 10,
   "id": "535a1403-7921-450f-8159-b972db221e46",
   "metadata": {},
   "outputs": [],
   "source": [
    "boston_red_OLS_for <- lm(MEDV~CRIM+CHAS+NOX+RM+AGE+DIS+RAD+TAX+PTRATIO+LSTAT,\n",
    "  data = training_boston\n",
    ")\n",
    "boston_pred_red_OLS_for <- predict(boston_red_OLS_for, testing_boston)"
   ]
  },
  {
   "cell_type": "code",
   "execution_count": 11,
   "id": "b633b7fa-4b6b-4dbe-8d80-c006cd56ee00",
   "metadata": {},
   "outputs": [
    {
     "data": {
      "text/html": [
       "<table class=\"dataframe\">\n",
       "<caption>A tibble: 1 × 2</caption>\n",
       "<thead>\n",
       "\t<tr><th scope=col>Model</th><th scope=col>R_MSE</th></tr>\n",
       "\t<tr><th scope=col>&lt;chr&gt;</th><th scope=col>&lt;dbl&gt;</th></tr>\n",
       "</thead>\n",
       "<tbody>\n",
       "\t<tr><td>OLS Reduced Regression Forward</td><td>4.777599</td></tr>\n",
       "</tbody>\n",
       "</table>\n"
      ],
      "text/latex": [
       "A tibble: 1 × 2\n",
       "\\begin{tabular}{ll}\n",
       " Model & R\\_MSE\\\\\n",
       " <chr> & <dbl>\\\\\n",
       "\\hline\n",
       "\t OLS Reduced Regression Forward & 4.777599\\\\\n",
       "\\end{tabular}\n"
      ],
      "text/markdown": [
       "\n",
       "A tibble: 1 × 2\n",
       "\n",
       "| Model &lt;chr&gt; | R_MSE &lt;dbl&gt; |\n",
       "|---|---|\n",
       "| OLS Reduced Regression Forward | 4.777599 |\n",
       "\n"
      ],
      "text/plain": [
       "  Model                          R_MSE   \n",
       "1 OLS Reduced Regression Forward 4.777599"
      ]
     },
     "metadata": {},
     "output_type": "display_data"
    }
   ],
   "source": [
    "boston_R_MSE_forward <- tibble(\n",
    "    Model = \"OLS Reduced Regression Forward\",\n",
    "    R_MSE = rmse(\n",
    "        preds = boston_pred_red_OLS_for,\n",
    "        actuals = testing_boston$MEDV\n",
    "        )\n",
    "    )\n",
    "boston_R_MSE_forward"
   ]
  },
  {
   "cell_type": "markdown",
   "id": "ce32d9bc-bf48-4468-9c58-2847f8147269",
   "metadata": {},
   "source": [
    "Now the backward selection algorithm will be used. The code is very similar to the forward selection algorithm's code; however, this algorithm starts with all of the variables, and removes some of them from the full model to create the reduced model."
   ]
  },
  {
   "cell_type": "code",
   "execution_count": 12,
   "id": "39c3d7b8-da01-4502-aa6d-aaee6c64bf05",
   "metadata": {},
   "outputs": [
    {
     "data": {
      "text/plain": [
       "Subset selection object\n",
       "Call: regsubsets.formula(x = MEDV ~ ., nvmax = 13, data = training_boston, \n",
       "    method = \"backward\")\n",
       "13 Variables  (and intercept)\n",
       "        Forced in Forced out\n",
       "CRIM        FALSE      FALSE\n",
       "ZN          FALSE      FALSE\n",
       "INDUS       FALSE      FALSE\n",
       "CHAS1       FALSE      FALSE\n",
       "NOX         FALSE      FALSE\n",
       "RM          FALSE      FALSE\n",
       "AGE         FALSE      FALSE\n",
       "DIS         FALSE      FALSE\n",
       "RAD         FALSE      FALSE\n",
       "TAX         FALSE      FALSE\n",
       "PTRATIO     FALSE      FALSE\n",
       "B           FALSE      FALSE\n",
       "LSTAT       FALSE      FALSE\n",
       "1 subsets of each size up to 13\n",
       "Selection Algorithm: backward\n",
       "          CRIM ZN  INDUS CHAS1 NOX RM  AGE DIS RAD TAX PTRATIO B   LSTAT\n",
       "1  ( 1 )  \" \"  \" \" \" \"   \" \"   \" \" \"*\" \" \" \" \" \" \" \" \" \" \"     \" \" \" \"  \n",
       "2  ( 1 )  \" \"  \" \" \" \"   \" \"   \" \" \"*\" \" \" \" \" \" \" \" \" \" \"     \" \" \"*\"  \n",
       "3  ( 1 )  \" \"  \" \" \" \"   \" \"   \" \" \"*\" \" \" \" \" \" \" \" \" \"*\"     \" \" \"*\"  \n",
       "4  ( 1 )  \" \"  \" \" \" \"   \"*\"   \" \" \"*\" \" \" \" \" \" \" \" \" \"*\"     \" \" \"*\"  \n",
       "5  ( 1 )  \"*\"  \" \" \" \"   \"*\"   \" \" \"*\" \" \" \" \" \" \" \" \" \"*\"     \" \" \"*\"  \n",
       "6  ( 1 )  \"*\"  \" \" \" \"   \"*\"   \" \" \"*\" \" \" \"*\" \" \" \" \" \"*\"     \" \" \"*\"  \n",
       "7  ( 1 )  \"*\"  \" \" \" \"   \"*\"   \" \" \"*\" \"*\" \"*\" \" \" \" \" \"*\"     \" \" \"*\"  \n",
       "8  ( 1 )  \"*\"  \" \" \" \"   \"*\"   \" \" \"*\" \"*\" \"*\" \" \" \"*\" \"*\"     \" \" \"*\"  \n",
       "9  ( 1 )  \"*\"  \" \" \" \"   \"*\"   \" \" \"*\" \"*\" \"*\" \"*\" \"*\" \"*\"     \" \" \"*\"  \n",
       "10  ( 1 ) \"*\"  \"*\" \" \"   \"*\"   \" \" \"*\" \"*\" \"*\" \"*\" \"*\" \"*\"     \" \" \"*\"  \n",
       "11  ( 1 ) \"*\"  \"*\" \" \"   \"*\"   \"*\" \"*\" \"*\" \"*\" \"*\" \"*\" \"*\"     \" \" \"*\"  \n",
       "12  ( 1 ) \"*\"  \"*\" \" \"   \"*\"   \"*\" \"*\" \"*\" \"*\" \"*\" \"*\" \"*\"     \"*\" \"*\"  \n",
       "13  ( 1 ) \"*\"  \"*\" \"*\"   \"*\"   \"*\" \"*\" \"*\" \"*\" \"*\" \"*\" \"*\"     \"*\" \"*\"  "
      ]
     },
     "metadata": {},
     "output_type": "display_data"
    }
   ],
   "source": [
    "boston_backward_sel <- regsubsets(\n",
    "  x = MEDV ~., \n",
    "  nvmax=13,\n",
    "  data=training_boston,\n",
    "  method=\"backward\"\n",
    ")\n",
    "\n",
    "boston_backward_sel <- summary(boston_backward_sel)\n",
    "boston_backward_sel"
   ]
  },
  {
   "cell_type": "markdown",
   "id": "7742e745-5700-4d8e-bde3-2e7194e33d11",
   "metadata": {},
   "source": [
    "The Cp values are compared in a table with the number of input variables. Similar to the foward selection algorithm, the optimal number of input variables is 10 because the Cp value is the lowest. The variables that will be used are CRIM, CHAS, NOX, RM, AGE, DIS, RAD, TAX, PTRATIO, LSTAT."
   ]
  },
  {
   "cell_type": "code",
   "execution_count": 13,
   "id": "93b64d6c-c715-4ca9-8488-0849714e9663",
   "metadata": {},
   "outputs": [
    {
     "data": {
      "text/html": [
       "<table class=\"dataframe\">\n",
       "<caption>A tibble: 13 × 2</caption>\n",
       "<thead>\n",
       "\t<tr><th scope=col>n_input_variables</th><th scope=col>Cp</th></tr>\n",
       "\t<tr><th scope=col>&lt;int&gt;</th><th scope=col>&lt;dbl&gt;</th></tr>\n",
       "</thead>\n",
       "<tbody>\n",
       "\t<tr><td> 1</td><td>235.251956</td></tr>\n",
       "\t<tr><td> 2</td><td>120.937796</td></tr>\n",
       "\t<tr><td> 3</td><td> 77.867174</td></tr>\n",
       "\t<tr><td> 4</td><td> 49.903767</td></tr>\n",
       "\t<tr><td> 5</td><td> 39.297183</td></tr>\n",
       "\t<tr><td> 6</td><td> 30.717623</td></tr>\n",
       "\t<tr><td> 7</td><td> 17.303929</td></tr>\n",
       "\t<tr><td> 8</td><td> 16.768564</td></tr>\n",
       "\t<tr><td> 9</td><td> 11.763193</td></tr>\n",
       "\t<tr><td>10</td><td>  9.950041</td></tr>\n",
       "\t<tr><td>11</td><td> 10.520974</td></tr>\n",
       "\t<tr><td>12</td><td> 12.104708</td></tr>\n",
       "\t<tr><td>13</td><td> 14.000000</td></tr>\n",
       "</tbody>\n",
       "</table>\n"
      ],
      "text/latex": [
       "A tibble: 13 × 2\n",
       "\\begin{tabular}{ll}\n",
       " n\\_input\\_variables & Cp\\\\\n",
       " <int> & <dbl>\\\\\n",
       "\\hline\n",
       "\t  1 & 235.251956\\\\\n",
       "\t  2 & 120.937796\\\\\n",
       "\t  3 &  77.867174\\\\\n",
       "\t  4 &  49.903767\\\\\n",
       "\t  5 &  39.297183\\\\\n",
       "\t  6 &  30.717623\\\\\n",
       "\t  7 &  17.303929\\\\\n",
       "\t  8 &  16.768564\\\\\n",
       "\t  9 &  11.763193\\\\\n",
       "\t 10 &   9.950041\\\\\n",
       "\t 11 &  10.520974\\\\\n",
       "\t 12 &  12.104708\\\\\n",
       "\t 13 &  14.000000\\\\\n",
       "\\end{tabular}\n"
      ],
      "text/markdown": [
       "\n",
       "A tibble: 13 × 2\n",
       "\n",
       "| n_input_variables &lt;int&gt; | Cp &lt;dbl&gt; |\n",
       "|---|---|\n",
       "|  1 | 235.251956 |\n",
       "|  2 | 120.937796 |\n",
       "|  3 |  77.867174 |\n",
       "|  4 |  49.903767 |\n",
       "|  5 |  39.297183 |\n",
       "|  6 |  30.717623 |\n",
       "|  7 |  17.303929 |\n",
       "|  8 |  16.768564 |\n",
       "|  9 |  11.763193 |\n",
       "| 10 |   9.950041 |\n",
       "| 11 |  10.520974 |\n",
       "| 12 |  12.104708 |\n",
       "| 13 |  14.000000 |\n",
       "\n"
      ],
      "text/plain": [
       "   n_input_variables Cp        \n",
       "1   1                235.251956\n",
       "2   2                120.937796\n",
       "3   3                 77.867174\n",
       "4   4                 49.903767\n",
       "5   5                 39.297183\n",
       "6   6                 30.717623\n",
       "7   7                 17.303929\n",
       "8   8                 16.768564\n",
       "9   9                 11.763193\n",
       "10 10                  9.950041\n",
       "11 11                 10.520974\n",
       "12 12                 12.104708\n",
       "13 13                 14.000000"
      ]
     },
     "metadata": {},
     "output_type": "display_data"
    }
   ],
   "source": [
    "boston_backward_df <- tibble(\n",
    "    n_input_variables = 1:13,\n",
    "    Cp = boston_backward_sel$cp\n",
    ")\n",
    "boston_backward_df"
   ]
  },
  {
   "cell_type": "markdown",
   "id": "4ee7a766-e232-413a-9fbe-f83a0112b6d6",
   "metadata": {},
   "source": [
    "After determining the optimal number of variables through the backward selection algorithm, we can fit a linear model with the selected variables. Then we can predict with the reduced model and the testing set."
   ]
  },
  {
   "cell_type": "code",
   "execution_count": 14,
   "id": "9634b43a-afa1-4719-86e5-cd744ad35b8f",
   "metadata": {},
   "outputs": [],
   "source": [
    "boston_red_OLS_bac <- lm(MEDV~CRIM+CHAS+NOX+RM+AGE+DIS+RAD+TAX+PTRATIO+LSTAT,\n",
    "  data = training_boston\n",
    ")\n",
    "boston_pred_red_OLS_bac <- predict(boston_red_OLS_bac, testing_boston)\n"
   ]
  },
  {
   "cell_type": "markdown",
   "id": "edb07fb1-f5ab-4ee7-8b94-61738faa3778",
   "metadata": {},
   "source": [
    "Then we can compute the RMSE for the reduced model."
   ]
  },
  {
   "cell_type": "code",
   "execution_count": 15,
   "id": "809df052-fbc6-48a1-9105-80ddd2a5b150",
   "metadata": {},
   "outputs": [
    {
     "data": {
      "text/html": [
       "<table class=\"dataframe\">\n",
       "<caption>A tibble: 1 × 2</caption>\n",
       "<thead>\n",
       "\t<tr><th scope=col>Model</th><th scope=col>R_MSE</th></tr>\n",
       "\t<tr><th scope=col>&lt;chr&gt;</th><th scope=col>&lt;dbl&gt;</th></tr>\n",
       "</thead>\n",
       "<tbody>\n",
       "\t<tr><td>OLS Reduced Regression Backward</td><td>4.777599</td></tr>\n",
       "</tbody>\n",
       "</table>\n"
      ],
      "text/latex": [
       "A tibble: 1 × 2\n",
       "\\begin{tabular}{ll}\n",
       " Model & R\\_MSE\\\\\n",
       " <chr> & <dbl>\\\\\n",
       "\\hline\n",
       "\t OLS Reduced Regression Backward & 4.777599\\\\\n",
       "\\end{tabular}\n"
      ],
      "text/markdown": [
       "\n",
       "A tibble: 1 × 2\n",
       "\n",
       "| Model &lt;chr&gt; | R_MSE &lt;dbl&gt; |\n",
       "|---|---|\n",
       "| OLS Reduced Regression Backward | 4.777599 |\n",
       "\n"
      ],
      "text/plain": [
       "  Model                           R_MSE   \n",
       "1 OLS Reduced Regression Backward 4.777599"
      ]
     },
     "metadata": {},
     "output_type": "display_data"
    }
   ],
   "source": [
    "boston_R_MSE_backward <- tibble(\n",
    "    Model = \"OLS Reduced Regression Backward\",\n",
    "    R_MSE = rmse(\n",
    "        preds = boston_pred_red_OLS_bac,\n",
    "        actuals = testing_boston$MEDV\n",
    "        )\n",
    "    )\n",
    "boston_R_MSE_backward"
   ]
  },
  {
   "cell_type": "markdown",
   "id": "d7b0d4c3-a418-421a-917b-77f2e11406ca",
   "metadata": {},
   "source": [
    "### Variable Selection using LASSO "
   ]
  },
  {
   "cell_type": "markdown",
   "id": "71984e70-865a-44e9-9e58-7dc7e2aee08c",
   "metadata": {},
   "source": [
    "Building matrix and vector using training set (training_boston) as it is required by `glmnet`"
   ]
  },
  {
   "cell_type": "code",
   "execution_count": 16,
   "id": "df292f5a-3ac3-46b2-98e0-50c0731a6791",
   "metadata": {},
   "outputs": [
    {
     "data": {
      "text/html": [
       "<table class=\"dataframe\">\n",
       "<caption>A matrix: 303 × 13 of type dbl</caption>\n",
       "<thead>\n",
       "\t<tr><th></th><th scope=col>CRIM</th><th scope=col>ZN</th><th scope=col>INDUS</th><th scope=col>CHAS1</th><th scope=col>NOX</th><th scope=col>RM</th><th scope=col>AGE</th><th scope=col>DIS</th><th scope=col>RAD</th><th scope=col>TAX</th><th scope=col>PTRATIO</th><th scope=col>B</th><th scope=col>LSTAT</th></tr>\n",
       "</thead>\n",
       "<tbody>\n",
       "\t<tr><th scope=row>1</th><td> 0.33045</td><td> 0.0</td><td> 6.20</td><td>0</td><td>0.5070</td><td>6.086</td><td>61.5</td><td>3.6519</td><td> 8</td><td>307</td><td>17.4</td><td>376.75</td><td>10.88</td></tr>\n",
       "\t<tr><th scope=row>2</th><td> 1.65660</td><td> 0.0</td><td>19.58</td><td>0</td><td>0.8710</td><td>6.122</td><td>97.3</td><td>1.6180</td><td> 5</td><td>403</td><td>14.7</td><td>372.80</td><td>14.10</td></tr>\n",
       "\t<tr><th scope=row>3</th><td> 0.07978</td><td>40.0</td><td> 6.41</td><td>0</td><td>0.4470</td><td>6.482</td><td>32.1</td><td>4.1403</td><td> 4</td><td>254</td><td>17.6</td><td>396.90</td><td> 7.19</td></tr>\n",
       "\t<tr><th scope=row>4</th><td> 0.04544</td><td> 0.0</td><td> 3.24</td><td>0</td><td>0.4600</td><td>6.144</td><td>32.2</td><td>5.8736</td><td> 4</td><td>430</td><td>16.9</td><td>368.57</td><td> 9.09</td></tr>\n",
       "\t<tr><th scope=row>5</th><td> 0.06076</td><td> 0.0</td><td>11.93</td><td>0</td><td>0.5730</td><td>6.976</td><td>91.0</td><td>2.1675</td><td> 1</td><td>273</td><td>21.0</td><td>396.90</td><td> 5.64</td></tr>\n",
       "\t<tr><th scope=row>6</th><td> 0.21977</td><td> 0.0</td><td> 6.91</td><td>0</td><td>0.4480</td><td>5.602</td><td>62.0</td><td>6.0877</td><td> 3</td><td>233</td><td>17.9</td><td>396.90</td><td>16.20</td></tr>\n",
       "\t<tr><th scope=row>7</th><td> 0.05561</td><td>70.0</td><td> 2.24</td><td>0</td><td>0.4000</td><td>7.041</td><td>10.0</td><td>7.8278</td><td> 5</td><td>358</td><td>14.8</td><td>371.58</td><td> 4.74</td></tr>\n",
       "\t<tr><th scope=row>8</th><td> 0.19186</td><td> 0.0</td><td> 7.38</td><td>0</td><td>0.4930</td><td>6.431</td><td>14.7</td><td>5.4159</td><td> 5</td><td>287</td><td>19.6</td><td>393.68</td><td> 5.08</td></tr>\n",
       "\t<tr><th scope=row>9</th><td> 0.17004</td><td>12.5</td><td> 7.87</td><td>0</td><td>0.5240</td><td>6.004</td><td>85.9</td><td>6.5921</td><td> 5</td><td>311</td><td>15.2</td><td>386.71</td><td>17.10</td></tr>\n",
       "\t<tr><th scope=row>10</th><td> 1.19294</td><td> 0.0</td><td>21.89</td><td>0</td><td>0.6240</td><td>6.326</td><td>97.7</td><td>2.2710</td><td> 4</td><td>437</td><td>21.2</td><td>396.90</td><td>12.26</td></tr>\n",
       "\t<tr><th scope=row>11</th><td> 0.27957</td><td> 0.0</td><td> 9.69</td><td>0</td><td>0.5850</td><td>5.926</td><td>42.6</td><td>2.3817</td><td> 6</td><td>391</td><td>19.2</td><td>396.90</td><td>13.59</td></tr>\n",
       "\t<tr><th scope=row>12</th><td> 0.11460</td><td>20.0</td><td> 6.96</td><td>0</td><td>0.4640</td><td>6.538</td><td>58.7</td><td>3.9175</td><td> 3</td><td>223</td><td>18.6</td><td>394.96</td><td> 7.73</td></tr>\n",
       "\t<tr><th scope=row>13</th><td> 0.16902</td><td> 0.0</td><td>25.65</td><td>0</td><td>0.5810</td><td>5.986</td><td>88.4</td><td>1.9929</td><td> 2</td><td>188</td><td>19.1</td><td>385.02</td><td>14.81</td></tr>\n",
       "\t<tr><th scope=row>14</th><td> 0.10574</td><td> 0.0</td><td>27.74</td><td>0</td><td>0.6090</td><td>5.983</td><td>98.8</td><td>1.8681</td><td> 4</td><td>711</td><td>20.1</td><td>390.11</td><td>18.07</td></tr>\n",
       "\t<tr><th scope=row>15</th><td> 0.52693</td><td> 0.0</td><td> 6.20</td><td>0</td><td>0.5040</td><td>8.725</td><td>83.0</td><td>2.8944</td><td> 8</td><td>307</td><td>17.4</td><td>382.00</td><td> 4.63</td></tr>\n",
       "\t<tr><th scope=row>16</th><td> 0.11425</td><td> 0.0</td><td>13.89</td><td>1</td><td>0.5500</td><td>6.373</td><td>92.4</td><td>3.3633</td><td> 5</td><td>276</td><td>16.4</td><td>393.74</td><td>10.50</td></tr>\n",
       "\t<tr><th scope=row>17</th><td> 0.19539</td><td> 0.0</td><td>10.81</td><td>0</td><td>0.4130</td><td>6.245</td><td> 6.2</td><td>5.2873</td><td> 4</td><td>305</td><td>19.2</td><td>377.17</td><td> 7.54</td></tr>\n",
       "\t<tr><th scope=row>18</th><td> 0.03871</td><td>52.5</td><td> 5.32</td><td>0</td><td>0.4050</td><td>6.209</td><td>31.3</td><td>7.3172</td><td> 6</td><td>293</td><td>16.6</td><td>396.90</td><td> 7.14</td></tr>\n",
       "\t<tr><th scope=row>19</th><td> 0.03041</td><td> 0.0</td><td> 5.19</td><td>0</td><td>0.5150</td><td>5.895</td><td>59.6</td><td>5.6150</td><td> 5</td><td>224</td><td>20.2</td><td>394.81</td><td>10.56</td></tr>\n",
       "\t<tr><th scope=row>20</th><td> 0.17171</td><td>25.0</td><td> 5.13</td><td>0</td><td>0.4530</td><td>5.966</td><td>93.4</td><td>6.8185</td><td> 8</td><td>284</td><td>19.7</td><td>378.08</td><td>14.44</td></tr>\n",
       "\t<tr><th scope=row>21</th><td> 0.12757</td><td>30.0</td><td> 4.93</td><td>0</td><td>0.4280</td><td>6.393</td><td> 7.8</td><td>7.0355</td><td> 6</td><td>300</td><td>16.6</td><td>374.71</td><td> 5.19</td></tr>\n",
       "\t<tr><th scope=row>22</th><td> 0.12269</td><td> 0.0</td><td> 6.91</td><td>0</td><td>0.4480</td><td>6.069</td><td>40.0</td><td>5.7209</td><td> 3</td><td>233</td><td>17.9</td><td>389.39</td><td> 9.55</td></tr>\n",
       "\t<tr><th scope=row>23</th><td> 0.36894</td><td>22.0</td><td> 5.86</td><td>0</td><td>0.4310</td><td>8.259</td><td> 8.4</td><td>8.9067</td><td> 7</td><td>330</td><td>19.1</td><td>396.90</td><td> 3.54</td></tr>\n",
       "\t<tr><th scope=row>24</th><td> 0.05023</td><td>35.0</td><td> 6.06</td><td>0</td><td>0.4379</td><td>5.706</td><td>28.4</td><td>6.6407</td><td> 1</td><td>304</td><td>16.9</td><td>394.02</td><td>12.43</td></tr>\n",
       "\t<tr><th scope=row>25</th><td>25.94060</td><td> 0.0</td><td>18.10</td><td>0</td><td>0.6790</td><td>5.304</td><td>89.1</td><td>1.6475</td><td>24</td><td>666</td><td>20.2</td><td>127.36</td><td>26.64</td></tr>\n",
       "\t<tr><th scope=row>26</th><td> 2.81838</td><td> 0.0</td><td>18.10</td><td>0</td><td>0.5320</td><td>5.762</td><td>40.3</td><td>4.0983</td><td>24</td><td>666</td><td>20.2</td><td>392.92</td><td>10.42</td></tr>\n",
       "\t<tr><th scope=row>27</th><td>11.16040</td><td> 0.0</td><td>18.10</td><td>0</td><td>0.7400</td><td>6.629</td><td>94.6</td><td>2.1247</td><td>24</td><td>666</td><td>20.2</td><td>109.85</td><td>23.27</td></tr>\n",
       "\t<tr><th scope=row>28</th><td> 1.05393</td><td> 0.0</td><td> 8.14</td><td>0</td><td>0.5380</td><td>5.935</td><td>29.3</td><td>4.4986</td><td> 4</td><td>307</td><td>21.0</td><td>386.85</td><td> 6.58</td></tr>\n",
       "\t<tr><th scope=row>29</th><td> 0.32264</td><td> 0.0</td><td>21.89</td><td>0</td><td>0.6240</td><td>5.942</td><td>93.5</td><td>1.9669</td><td> 4</td><td>437</td><td>21.2</td><td>378.25</td><td>16.90</td></tr>\n",
       "\t<tr><th scope=row>30</th><td> 0.26838</td><td> 0.0</td><td> 9.69</td><td>0</td><td>0.5850</td><td>5.794</td><td>70.6</td><td>2.8927</td><td> 6</td><td>391</td><td>19.2</td><td>396.90</td><td>14.10</td></tr>\n",
       "\t<tr><th scope=row>⋮</th><td>⋮</td><td>⋮</td><td>⋮</td><td>⋮</td><td>⋮</td><td>⋮</td><td>⋮</td><td>⋮</td><td>⋮</td><td>⋮</td><td>⋮</td><td>⋮</td><td>⋮</td></tr>\n",
       "\t<tr><th scope=row>274</th><td> 1.80028</td><td> 0.0</td><td>19.58</td><td>0</td><td>0.605</td><td>5.877</td><td>79.2</td><td>2.4259</td><td> 5</td><td>403</td><td>14.7</td><td>227.61</td><td>12.14</td></tr>\n",
       "\t<tr><th scope=row>275</th><td> 0.04741</td><td> 0.0</td><td>11.93</td><td>0</td><td>0.573</td><td>6.030</td><td>80.8</td><td>2.5050</td><td> 1</td><td>273</td><td>21.0</td><td>396.90</td><td> 7.88</td></tr>\n",
       "\t<tr><th scope=row>276</th><td> 0.24522</td><td> 0.0</td><td> 9.90</td><td>0</td><td>0.544</td><td>5.782</td><td>71.7</td><td>4.0317</td><td> 4</td><td>304</td><td>18.4</td><td>396.90</td><td>15.94</td></tr>\n",
       "\t<tr><th scope=row>277</th><td> 0.08265</td><td> 0.0</td><td>13.92</td><td>0</td><td>0.437</td><td>6.127</td><td>18.4</td><td>5.5027</td><td> 4</td><td>289</td><td>16.0</td><td>396.90</td><td> 8.58</td></tr>\n",
       "\t<tr><th scope=row>278</th><td> 0.05515</td><td>33.0</td><td> 2.18</td><td>0</td><td>0.472</td><td>7.236</td><td>41.1</td><td>4.0220</td><td> 7</td><td>222</td><td>18.4</td><td>393.68</td><td> 6.93</td></tr>\n",
       "\t<tr><th scope=row>279</th><td> 0.24980</td><td> 0.0</td><td>21.89</td><td>0</td><td>0.624</td><td>5.857</td><td>98.2</td><td>1.6686</td><td> 4</td><td>437</td><td>21.2</td><td>392.04</td><td>21.32</td></tr>\n",
       "\t<tr><th scope=row>280</th><td>24.80170</td><td> 0.0</td><td>18.10</td><td>0</td><td>0.693</td><td>5.349</td><td>96.0</td><td>1.7028</td><td>24</td><td>666</td><td>20.2</td><td>396.90</td><td>19.77</td></tr>\n",
       "\t<tr><th scope=row>281</th><td> 0.06617</td><td> 0.0</td><td> 3.24</td><td>0</td><td>0.460</td><td>5.868</td><td>25.8</td><td>5.2146</td><td> 4</td><td>430</td><td>16.9</td><td>382.44</td><td> 9.97</td></tr>\n",
       "\t<tr><th scope=row>282</th><td> 0.12816</td><td>12.5</td><td> 6.07</td><td>0</td><td>0.409</td><td>5.885</td><td>33.0</td><td>6.4980</td><td> 4</td><td>345</td><td>18.9</td><td>396.90</td><td> 8.79</td></tr>\n",
       "\t<tr><th scope=row>283</th><td> 0.06162</td><td> 0.0</td><td> 4.39</td><td>0</td><td>0.442</td><td>5.898</td><td>52.3</td><td>8.0136</td><td> 3</td><td>352</td><td>18.8</td><td>364.61</td><td>12.67</td></tr>\n",
       "\t<tr><th scope=row>284</th><td>10.23300</td><td> 0.0</td><td>18.10</td><td>0</td><td>0.614</td><td>6.185</td><td>96.7</td><td>2.1705</td><td>24</td><td>666</td><td>20.2</td><td>379.70</td><td>18.03</td></tr>\n",
       "\t<tr><th scope=row>285</th><td> 0.11432</td><td> 0.0</td><td> 8.56</td><td>0</td><td>0.520</td><td>6.781</td><td>71.3</td><td>2.8561</td><td> 5</td><td>384</td><td>20.9</td><td>395.58</td><td> 7.67</td></tr>\n",
       "\t<tr><th scope=row>286</th><td> 1.15172</td><td> 0.0</td><td> 8.14</td><td>0</td><td>0.538</td><td>5.701</td><td>95.0</td><td>3.7872</td><td> 4</td><td>307</td><td>21.0</td><td>358.77</td><td>18.35</td></tr>\n",
       "\t<tr><th scope=row>287</th><td> 0.04379</td><td>80.0</td><td> 3.37</td><td>0</td><td>0.398</td><td>5.787</td><td>31.1</td><td>6.6115</td><td> 4</td><td>337</td><td>16.1</td><td>396.90</td><td>10.24</td></tr>\n",
       "\t<tr><th scope=row>288</th><td>13.35980</td><td> 0.0</td><td>18.10</td><td>0</td><td>0.693</td><td>5.887</td><td>94.7</td><td>1.7821</td><td>24</td><td>666</td><td>20.2</td><td>396.90</td><td>16.35</td></tr>\n",
       "\t<tr><th scope=row>289</th><td> 0.10612</td><td>30.0</td><td> 4.93</td><td>0</td><td>0.428</td><td>6.095</td><td>65.1</td><td>6.3361</td><td> 6</td><td>300</td><td>16.6</td><td>394.62</td><td>12.40</td></tr>\n",
       "\t<tr><th scope=row>290</th><td> 0.06588</td><td> 0.0</td><td> 2.46</td><td>0</td><td>0.488</td><td>7.765</td><td>83.3</td><td>2.7410</td><td> 3</td><td>193</td><td>17.8</td><td>395.56</td><td> 7.56</td></tr>\n",
       "\t<tr><th scope=row>291</th><td> 8.71675</td><td> 0.0</td><td>18.10</td><td>0</td><td>0.693</td><td>6.471</td><td>98.8</td><td>1.7257</td><td>24</td><td>666</td><td>20.2</td><td>391.98</td><td>17.12</td></tr>\n",
       "\t<tr><th scope=row>292</th><td> 0.17505</td><td> 0.0</td><td> 5.96</td><td>0</td><td>0.499</td><td>5.966</td><td>30.2</td><td>3.8473</td><td> 5</td><td>279</td><td>19.2</td><td>393.43</td><td>10.13</td></tr>\n",
       "\t<tr><th scope=row>293</th><td> 0.19133</td><td>22.0</td><td> 5.86</td><td>0</td><td>0.431</td><td>5.605</td><td>70.2</td><td>7.9549</td><td> 7</td><td>330</td><td>19.1</td><td>389.13</td><td>18.46</td></tr>\n",
       "\t<tr><th scope=row>294</th><td> 1.51902</td><td> 0.0</td><td>19.58</td><td>1</td><td>0.605</td><td>8.375</td><td>93.9</td><td>2.1620</td><td> 5</td><td>403</td><td>14.7</td><td>388.45</td><td> 3.32</td></tr>\n",
       "\t<tr><th scope=row>295</th><td> 0.14231</td><td> 0.0</td><td>10.01</td><td>0</td><td>0.547</td><td>6.254</td><td>84.2</td><td>2.2565</td><td> 6</td><td>432</td><td>17.8</td><td>388.74</td><td>10.45</td></tr>\n",
       "\t<tr><th scope=row>296</th><td> 0.03584</td><td>80.0</td><td> 3.37</td><td>0</td><td>0.398</td><td>6.290</td><td>17.8</td><td>6.6115</td><td> 4</td><td>337</td><td>16.1</td><td>396.90</td><td> 4.67</td></tr>\n",
       "\t<tr><th scope=row>297</th><td> 0.09266</td><td>34.0</td><td> 6.09</td><td>0</td><td>0.433</td><td>6.495</td><td>18.4</td><td>5.4917</td><td> 7</td><td>329</td><td>16.1</td><td>383.61</td><td> 8.67</td></tr>\n",
       "\t<tr><th scope=row>298</th><td> 0.44791</td><td> 0.0</td><td> 6.20</td><td>1</td><td>0.507</td><td>6.726</td><td>66.5</td><td>3.6519</td><td> 8</td><td>307</td><td>17.4</td><td>360.20</td><td> 8.05</td></tr>\n",
       "\t<tr><th scope=row>299</th><td> 0.02177</td><td>82.5</td><td> 2.03</td><td>0</td><td>0.415</td><td>7.610</td><td>15.7</td><td>6.2700</td><td> 2</td><td>348</td><td>14.7</td><td>395.38</td><td> 3.11</td></tr>\n",
       "\t<tr><th scope=row>300</th><td> 0.01301</td><td>35.0</td><td> 1.52</td><td>0</td><td>0.442</td><td>7.241</td><td>49.3</td><td>7.0379</td><td> 1</td><td>284</td><td>15.5</td><td>394.74</td><td> 5.49</td></tr>\n",
       "\t<tr><th scope=row>301</th><td> 0.32982</td><td> 0.0</td><td>21.89</td><td>0</td><td>0.624</td><td>5.822</td><td>95.4</td><td>2.4699</td><td> 4</td><td>437</td><td>21.2</td><td>388.69</td><td>15.03</td></tr>\n",
       "\t<tr><th scope=row>302</th><td> 0.01439</td><td>60.0</td><td> 2.93</td><td>0</td><td>0.401</td><td>6.604</td><td>18.8</td><td>6.2196</td><td> 1</td><td>265</td><td>15.6</td><td>376.70</td><td> 4.38</td></tr>\n",
       "\t<tr><th scope=row>303</th><td> 0.04981</td><td>21.0</td><td> 5.64</td><td>0</td><td>0.439</td><td>5.998</td><td>21.4</td><td>6.8147</td><td> 4</td><td>243</td><td>16.8</td><td>396.90</td><td> 8.43</td></tr>\n",
       "</tbody>\n",
       "</table>\n"
      ],
      "text/latex": [
       "A matrix: 303 × 13 of type dbl\n",
       "\\begin{tabular}{r|lllllllllllll}\n",
       "  & CRIM & ZN & INDUS & CHAS1 & NOX & RM & AGE & DIS & RAD & TAX & PTRATIO & B & LSTAT\\\\\n",
       "\\hline\n",
       "\t1 &  0.33045 &  0.0 &  6.20 & 0 & 0.5070 & 6.086 & 61.5 & 3.6519 &  8 & 307 & 17.4 & 376.75 & 10.88\\\\\n",
       "\t2 &  1.65660 &  0.0 & 19.58 & 0 & 0.8710 & 6.122 & 97.3 & 1.6180 &  5 & 403 & 14.7 & 372.80 & 14.10\\\\\n",
       "\t3 &  0.07978 & 40.0 &  6.41 & 0 & 0.4470 & 6.482 & 32.1 & 4.1403 &  4 & 254 & 17.6 & 396.90 &  7.19\\\\\n",
       "\t4 &  0.04544 &  0.0 &  3.24 & 0 & 0.4600 & 6.144 & 32.2 & 5.8736 &  4 & 430 & 16.9 & 368.57 &  9.09\\\\\n",
       "\t5 &  0.06076 &  0.0 & 11.93 & 0 & 0.5730 & 6.976 & 91.0 & 2.1675 &  1 & 273 & 21.0 & 396.90 &  5.64\\\\\n",
       "\t6 &  0.21977 &  0.0 &  6.91 & 0 & 0.4480 & 5.602 & 62.0 & 6.0877 &  3 & 233 & 17.9 & 396.90 & 16.20\\\\\n",
       "\t7 &  0.05561 & 70.0 &  2.24 & 0 & 0.4000 & 7.041 & 10.0 & 7.8278 &  5 & 358 & 14.8 & 371.58 &  4.74\\\\\n",
       "\t8 &  0.19186 &  0.0 &  7.38 & 0 & 0.4930 & 6.431 & 14.7 & 5.4159 &  5 & 287 & 19.6 & 393.68 &  5.08\\\\\n",
       "\t9 &  0.17004 & 12.5 &  7.87 & 0 & 0.5240 & 6.004 & 85.9 & 6.5921 &  5 & 311 & 15.2 & 386.71 & 17.10\\\\\n",
       "\t10 &  1.19294 &  0.0 & 21.89 & 0 & 0.6240 & 6.326 & 97.7 & 2.2710 &  4 & 437 & 21.2 & 396.90 & 12.26\\\\\n",
       "\t11 &  0.27957 &  0.0 &  9.69 & 0 & 0.5850 & 5.926 & 42.6 & 2.3817 &  6 & 391 & 19.2 & 396.90 & 13.59\\\\\n",
       "\t12 &  0.11460 & 20.0 &  6.96 & 0 & 0.4640 & 6.538 & 58.7 & 3.9175 &  3 & 223 & 18.6 & 394.96 &  7.73\\\\\n",
       "\t13 &  0.16902 &  0.0 & 25.65 & 0 & 0.5810 & 5.986 & 88.4 & 1.9929 &  2 & 188 & 19.1 & 385.02 & 14.81\\\\\n",
       "\t14 &  0.10574 &  0.0 & 27.74 & 0 & 0.6090 & 5.983 & 98.8 & 1.8681 &  4 & 711 & 20.1 & 390.11 & 18.07\\\\\n",
       "\t15 &  0.52693 &  0.0 &  6.20 & 0 & 0.5040 & 8.725 & 83.0 & 2.8944 &  8 & 307 & 17.4 & 382.00 &  4.63\\\\\n",
       "\t16 &  0.11425 &  0.0 & 13.89 & 1 & 0.5500 & 6.373 & 92.4 & 3.3633 &  5 & 276 & 16.4 & 393.74 & 10.50\\\\\n",
       "\t17 &  0.19539 &  0.0 & 10.81 & 0 & 0.4130 & 6.245 &  6.2 & 5.2873 &  4 & 305 & 19.2 & 377.17 &  7.54\\\\\n",
       "\t18 &  0.03871 & 52.5 &  5.32 & 0 & 0.4050 & 6.209 & 31.3 & 7.3172 &  6 & 293 & 16.6 & 396.90 &  7.14\\\\\n",
       "\t19 &  0.03041 &  0.0 &  5.19 & 0 & 0.5150 & 5.895 & 59.6 & 5.6150 &  5 & 224 & 20.2 & 394.81 & 10.56\\\\\n",
       "\t20 &  0.17171 & 25.0 &  5.13 & 0 & 0.4530 & 5.966 & 93.4 & 6.8185 &  8 & 284 & 19.7 & 378.08 & 14.44\\\\\n",
       "\t21 &  0.12757 & 30.0 &  4.93 & 0 & 0.4280 & 6.393 &  7.8 & 7.0355 &  6 & 300 & 16.6 & 374.71 &  5.19\\\\\n",
       "\t22 &  0.12269 &  0.0 &  6.91 & 0 & 0.4480 & 6.069 & 40.0 & 5.7209 &  3 & 233 & 17.9 & 389.39 &  9.55\\\\\n",
       "\t23 &  0.36894 & 22.0 &  5.86 & 0 & 0.4310 & 8.259 &  8.4 & 8.9067 &  7 & 330 & 19.1 & 396.90 &  3.54\\\\\n",
       "\t24 &  0.05023 & 35.0 &  6.06 & 0 & 0.4379 & 5.706 & 28.4 & 6.6407 &  1 & 304 & 16.9 & 394.02 & 12.43\\\\\n",
       "\t25 & 25.94060 &  0.0 & 18.10 & 0 & 0.6790 & 5.304 & 89.1 & 1.6475 & 24 & 666 & 20.2 & 127.36 & 26.64\\\\\n",
       "\t26 &  2.81838 &  0.0 & 18.10 & 0 & 0.5320 & 5.762 & 40.3 & 4.0983 & 24 & 666 & 20.2 & 392.92 & 10.42\\\\\n",
       "\t27 & 11.16040 &  0.0 & 18.10 & 0 & 0.7400 & 6.629 & 94.6 & 2.1247 & 24 & 666 & 20.2 & 109.85 & 23.27\\\\\n",
       "\t28 &  1.05393 &  0.0 &  8.14 & 0 & 0.5380 & 5.935 & 29.3 & 4.4986 &  4 & 307 & 21.0 & 386.85 &  6.58\\\\\n",
       "\t29 &  0.32264 &  0.0 & 21.89 & 0 & 0.6240 & 5.942 & 93.5 & 1.9669 &  4 & 437 & 21.2 & 378.25 & 16.90\\\\\n",
       "\t30 &  0.26838 &  0.0 &  9.69 & 0 & 0.5850 & 5.794 & 70.6 & 2.8927 &  6 & 391 & 19.2 & 396.90 & 14.10\\\\\n",
       "\t⋮ & ⋮ & ⋮ & ⋮ & ⋮ & ⋮ & ⋮ & ⋮ & ⋮ & ⋮ & ⋮ & ⋮ & ⋮ & ⋮\\\\\n",
       "\t274 &  1.80028 &  0.0 & 19.58 & 0 & 0.605 & 5.877 & 79.2 & 2.4259 &  5 & 403 & 14.7 & 227.61 & 12.14\\\\\n",
       "\t275 &  0.04741 &  0.0 & 11.93 & 0 & 0.573 & 6.030 & 80.8 & 2.5050 &  1 & 273 & 21.0 & 396.90 &  7.88\\\\\n",
       "\t276 &  0.24522 &  0.0 &  9.90 & 0 & 0.544 & 5.782 & 71.7 & 4.0317 &  4 & 304 & 18.4 & 396.90 & 15.94\\\\\n",
       "\t277 &  0.08265 &  0.0 & 13.92 & 0 & 0.437 & 6.127 & 18.4 & 5.5027 &  4 & 289 & 16.0 & 396.90 &  8.58\\\\\n",
       "\t278 &  0.05515 & 33.0 &  2.18 & 0 & 0.472 & 7.236 & 41.1 & 4.0220 &  7 & 222 & 18.4 & 393.68 &  6.93\\\\\n",
       "\t279 &  0.24980 &  0.0 & 21.89 & 0 & 0.624 & 5.857 & 98.2 & 1.6686 &  4 & 437 & 21.2 & 392.04 & 21.32\\\\\n",
       "\t280 & 24.80170 &  0.0 & 18.10 & 0 & 0.693 & 5.349 & 96.0 & 1.7028 & 24 & 666 & 20.2 & 396.90 & 19.77\\\\\n",
       "\t281 &  0.06617 &  0.0 &  3.24 & 0 & 0.460 & 5.868 & 25.8 & 5.2146 &  4 & 430 & 16.9 & 382.44 &  9.97\\\\\n",
       "\t282 &  0.12816 & 12.5 &  6.07 & 0 & 0.409 & 5.885 & 33.0 & 6.4980 &  4 & 345 & 18.9 & 396.90 &  8.79\\\\\n",
       "\t283 &  0.06162 &  0.0 &  4.39 & 0 & 0.442 & 5.898 & 52.3 & 8.0136 &  3 & 352 & 18.8 & 364.61 & 12.67\\\\\n",
       "\t284 & 10.23300 &  0.0 & 18.10 & 0 & 0.614 & 6.185 & 96.7 & 2.1705 & 24 & 666 & 20.2 & 379.70 & 18.03\\\\\n",
       "\t285 &  0.11432 &  0.0 &  8.56 & 0 & 0.520 & 6.781 & 71.3 & 2.8561 &  5 & 384 & 20.9 & 395.58 &  7.67\\\\\n",
       "\t286 &  1.15172 &  0.0 &  8.14 & 0 & 0.538 & 5.701 & 95.0 & 3.7872 &  4 & 307 & 21.0 & 358.77 & 18.35\\\\\n",
       "\t287 &  0.04379 & 80.0 &  3.37 & 0 & 0.398 & 5.787 & 31.1 & 6.6115 &  4 & 337 & 16.1 & 396.90 & 10.24\\\\\n",
       "\t288 & 13.35980 &  0.0 & 18.10 & 0 & 0.693 & 5.887 & 94.7 & 1.7821 & 24 & 666 & 20.2 & 396.90 & 16.35\\\\\n",
       "\t289 &  0.10612 & 30.0 &  4.93 & 0 & 0.428 & 6.095 & 65.1 & 6.3361 &  6 & 300 & 16.6 & 394.62 & 12.40\\\\\n",
       "\t290 &  0.06588 &  0.0 &  2.46 & 0 & 0.488 & 7.765 & 83.3 & 2.7410 &  3 & 193 & 17.8 & 395.56 &  7.56\\\\\n",
       "\t291 &  8.71675 &  0.0 & 18.10 & 0 & 0.693 & 6.471 & 98.8 & 1.7257 & 24 & 666 & 20.2 & 391.98 & 17.12\\\\\n",
       "\t292 &  0.17505 &  0.0 &  5.96 & 0 & 0.499 & 5.966 & 30.2 & 3.8473 &  5 & 279 & 19.2 & 393.43 & 10.13\\\\\n",
       "\t293 &  0.19133 & 22.0 &  5.86 & 0 & 0.431 & 5.605 & 70.2 & 7.9549 &  7 & 330 & 19.1 & 389.13 & 18.46\\\\\n",
       "\t294 &  1.51902 &  0.0 & 19.58 & 1 & 0.605 & 8.375 & 93.9 & 2.1620 &  5 & 403 & 14.7 & 388.45 &  3.32\\\\\n",
       "\t295 &  0.14231 &  0.0 & 10.01 & 0 & 0.547 & 6.254 & 84.2 & 2.2565 &  6 & 432 & 17.8 & 388.74 & 10.45\\\\\n",
       "\t296 &  0.03584 & 80.0 &  3.37 & 0 & 0.398 & 6.290 & 17.8 & 6.6115 &  4 & 337 & 16.1 & 396.90 &  4.67\\\\\n",
       "\t297 &  0.09266 & 34.0 &  6.09 & 0 & 0.433 & 6.495 & 18.4 & 5.4917 &  7 & 329 & 16.1 & 383.61 &  8.67\\\\\n",
       "\t298 &  0.44791 &  0.0 &  6.20 & 1 & 0.507 & 6.726 & 66.5 & 3.6519 &  8 & 307 & 17.4 & 360.20 &  8.05\\\\\n",
       "\t299 &  0.02177 & 82.5 &  2.03 & 0 & 0.415 & 7.610 & 15.7 & 6.2700 &  2 & 348 & 14.7 & 395.38 &  3.11\\\\\n",
       "\t300 &  0.01301 & 35.0 &  1.52 & 0 & 0.442 & 7.241 & 49.3 & 7.0379 &  1 & 284 & 15.5 & 394.74 &  5.49\\\\\n",
       "\t301 &  0.32982 &  0.0 & 21.89 & 0 & 0.624 & 5.822 & 95.4 & 2.4699 &  4 & 437 & 21.2 & 388.69 & 15.03\\\\\n",
       "\t302 &  0.01439 & 60.0 &  2.93 & 0 & 0.401 & 6.604 & 18.8 & 6.2196 &  1 & 265 & 15.6 & 376.70 &  4.38\\\\\n",
       "\t303 &  0.04981 & 21.0 &  5.64 & 0 & 0.439 & 5.998 & 21.4 & 6.8147 &  4 & 243 & 16.8 & 396.90 &  8.43\\\\\n",
       "\\end{tabular}\n"
      ],
      "text/markdown": [
       "\n",
       "A matrix: 303 × 13 of type dbl\n",
       "\n",
       "| <!--/--> | CRIM | ZN | INDUS | CHAS1 | NOX | RM | AGE | DIS | RAD | TAX | PTRATIO | B | LSTAT |\n",
       "|---|---|---|---|---|---|---|---|---|---|---|---|---|---|\n",
       "| 1 |  0.33045 |  0.0 |  6.20 | 0 | 0.5070 | 6.086 | 61.5 | 3.6519 |  8 | 307 | 17.4 | 376.75 | 10.88 |\n",
       "| 2 |  1.65660 |  0.0 | 19.58 | 0 | 0.8710 | 6.122 | 97.3 | 1.6180 |  5 | 403 | 14.7 | 372.80 | 14.10 |\n",
       "| 3 |  0.07978 | 40.0 |  6.41 | 0 | 0.4470 | 6.482 | 32.1 | 4.1403 |  4 | 254 | 17.6 | 396.90 |  7.19 |\n",
       "| 4 |  0.04544 |  0.0 |  3.24 | 0 | 0.4600 | 6.144 | 32.2 | 5.8736 |  4 | 430 | 16.9 | 368.57 |  9.09 |\n",
       "| 5 |  0.06076 |  0.0 | 11.93 | 0 | 0.5730 | 6.976 | 91.0 | 2.1675 |  1 | 273 | 21.0 | 396.90 |  5.64 |\n",
       "| 6 |  0.21977 |  0.0 |  6.91 | 0 | 0.4480 | 5.602 | 62.0 | 6.0877 |  3 | 233 | 17.9 | 396.90 | 16.20 |\n",
       "| 7 |  0.05561 | 70.0 |  2.24 | 0 | 0.4000 | 7.041 | 10.0 | 7.8278 |  5 | 358 | 14.8 | 371.58 |  4.74 |\n",
       "| 8 |  0.19186 |  0.0 |  7.38 | 0 | 0.4930 | 6.431 | 14.7 | 5.4159 |  5 | 287 | 19.6 | 393.68 |  5.08 |\n",
       "| 9 |  0.17004 | 12.5 |  7.87 | 0 | 0.5240 | 6.004 | 85.9 | 6.5921 |  5 | 311 | 15.2 | 386.71 | 17.10 |\n",
       "| 10 |  1.19294 |  0.0 | 21.89 | 0 | 0.6240 | 6.326 | 97.7 | 2.2710 |  4 | 437 | 21.2 | 396.90 | 12.26 |\n",
       "| 11 |  0.27957 |  0.0 |  9.69 | 0 | 0.5850 | 5.926 | 42.6 | 2.3817 |  6 | 391 | 19.2 | 396.90 | 13.59 |\n",
       "| 12 |  0.11460 | 20.0 |  6.96 | 0 | 0.4640 | 6.538 | 58.7 | 3.9175 |  3 | 223 | 18.6 | 394.96 |  7.73 |\n",
       "| 13 |  0.16902 |  0.0 | 25.65 | 0 | 0.5810 | 5.986 | 88.4 | 1.9929 |  2 | 188 | 19.1 | 385.02 | 14.81 |\n",
       "| 14 |  0.10574 |  0.0 | 27.74 | 0 | 0.6090 | 5.983 | 98.8 | 1.8681 |  4 | 711 | 20.1 | 390.11 | 18.07 |\n",
       "| 15 |  0.52693 |  0.0 |  6.20 | 0 | 0.5040 | 8.725 | 83.0 | 2.8944 |  8 | 307 | 17.4 | 382.00 |  4.63 |\n",
       "| 16 |  0.11425 |  0.0 | 13.89 | 1 | 0.5500 | 6.373 | 92.4 | 3.3633 |  5 | 276 | 16.4 | 393.74 | 10.50 |\n",
       "| 17 |  0.19539 |  0.0 | 10.81 | 0 | 0.4130 | 6.245 |  6.2 | 5.2873 |  4 | 305 | 19.2 | 377.17 |  7.54 |\n",
       "| 18 |  0.03871 | 52.5 |  5.32 | 0 | 0.4050 | 6.209 | 31.3 | 7.3172 |  6 | 293 | 16.6 | 396.90 |  7.14 |\n",
       "| 19 |  0.03041 |  0.0 |  5.19 | 0 | 0.5150 | 5.895 | 59.6 | 5.6150 |  5 | 224 | 20.2 | 394.81 | 10.56 |\n",
       "| 20 |  0.17171 | 25.0 |  5.13 | 0 | 0.4530 | 5.966 | 93.4 | 6.8185 |  8 | 284 | 19.7 | 378.08 | 14.44 |\n",
       "| 21 |  0.12757 | 30.0 |  4.93 | 0 | 0.4280 | 6.393 |  7.8 | 7.0355 |  6 | 300 | 16.6 | 374.71 |  5.19 |\n",
       "| 22 |  0.12269 |  0.0 |  6.91 | 0 | 0.4480 | 6.069 | 40.0 | 5.7209 |  3 | 233 | 17.9 | 389.39 |  9.55 |\n",
       "| 23 |  0.36894 | 22.0 |  5.86 | 0 | 0.4310 | 8.259 |  8.4 | 8.9067 |  7 | 330 | 19.1 | 396.90 |  3.54 |\n",
       "| 24 |  0.05023 | 35.0 |  6.06 | 0 | 0.4379 | 5.706 | 28.4 | 6.6407 |  1 | 304 | 16.9 | 394.02 | 12.43 |\n",
       "| 25 | 25.94060 |  0.0 | 18.10 | 0 | 0.6790 | 5.304 | 89.1 | 1.6475 | 24 | 666 | 20.2 | 127.36 | 26.64 |\n",
       "| 26 |  2.81838 |  0.0 | 18.10 | 0 | 0.5320 | 5.762 | 40.3 | 4.0983 | 24 | 666 | 20.2 | 392.92 | 10.42 |\n",
       "| 27 | 11.16040 |  0.0 | 18.10 | 0 | 0.7400 | 6.629 | 94.6 | 2.1247 | 24 | 666 | 20.2 | 109.85 | 23.27 |\n",
       "| 28 |  1.05393 |  0.0 |  8.14 | 0 | 0.5380 | 5.935 | 29.3 | 4.4986 |  4 | 307 | 21.0 | 386.85 |  6.58 |\n",
       "| 29 |  0.32264 |  0.0 | 21.89 | 0 | 0.6240 | 5.942 | 93.5 | 1.9669 |  4 | 437 | 21.2 | 378.25 | 16.90 |\n",
       "| 30 |  0.26838 |  0.0 |  9.69 | 0 | 0.5850 | 5.794 | 70.6 | 2.8927 |  6 | 391 | 19.2 | 396.90 | 14.10 |\n",
       "| ⋮ | ⋮ | ⋮ | ⋮ | ⋮ | ⋮ | ⋮ | ⋮ | ⋮ | ⋮ | ⋮ | ⋮ | ⋮ | ⋮ |\n",
       "| 274 |  1.80028 |  0.0 | 19.58 | 0 | 0.605 | 5.877 | 79.2 | 2.4259 |  5 | 403 | 14.7 | 227.61 | 12.14 |\n",
       "| 275 |  0.04741 |  0.0 | 11.93 | 0 | 0.573 | 6.030 | 80.8 | 2.5050 |  1 | 273 | 21.0 | 396.90 |  7.88 |\n",
       "| 276 |  0.24522 |  0.0 |  9.90 | 0 | 0.544 | 5.782 | 71.7 | 4.0317 |  4 | 304 | 18.4 | 396.90 | 15.94 |\n",
       "| 277 |  0.08265 |  0.0 | 13.92 | 0 | 0.437 | 6.127 | 18.4 | 5.5027 |  4 | 289 | 16.0 | 396.90 |  8.58 |\n",
       "| 278 |  0.05515 | 33.0 |  2.18 | 0 | 0.472 | 7.236 | 41.1 | 4.0220 |  7 | 222 | 18.4 | 393.68 |  6.93 |\n",
       "| 279 |  0.24980 |  0.0 | 21.89 | 0 | 0.624 | 5.857 | 98.2 | 1.6686 |  4 | 437 | 21.2 | 392.04 | 21.32 |\n",
       "| 280 | 24.80170 |  0.0 | 18.10 | 0 | 0.693 | 5.349 | 96.0 | 1.7028 | 24 | 666 | 20.2 | 396.90 | 19.77 |\n",
       "| 281 |  0.06617 |  0.0 |  3.24 | 0 | 0.460 | 5.868 | 25.8 | 5.2146 |  4 | 430 | 16.9 | 382.44 |  9.97 |\n",
       "| 282 |  0.12816 | 12.5 |  6.07 | 0 | 0.409 | 5.885 | 33.0 | 6.4980 |  4 | 345 | 18.9 | 396.90 |  8.79 |\n",
       "| 283 |  0.06162 |  0.0 |  4.39 | 0 | 0.442 | 5.898 | 52.3 | 8.0136 |  3 | 352 | 18.8 | 364.61 | 12.67 |\n",
       "| 284 | 10.23300 |  0.0 | 18.10 | 0 | 0.614 | 6.185 | 96.7 | 2.1705 | 24 | 666 | 20.2 | 379.70 | 18.03 |\n",
       "| 285 |  0.11432 |  0.0 |  8.56 | 0 | 0.520 | 6.781 | 71.3 | 2.8561 |  5 | 384 | 20.9 | 395.58 |  7.67 |\n",
       "| 286 |  1.15172 |  0.0 |  8.14 | 0 | 0.538 | 5.701 | 95.0 | 3.7872 |  4 | 307 | 21.0 | 358.77 | 18.35 |\n",
       "| 287 |  0.04379 | 80.0 |  3.37 | 0 | 0.398 | 5.787 | 31.1 | 6.6115 |  4 | 337 | 16.1 | 396.90 | 10.24 |\n",
       "| 288 | 13.35980 |  0.0 | 18.10 | 0 | 0.693 | 5.887 | 94.7 | 1.7821 | 24 | 666 | 20.2 | 396.90 | 16.35 |\n",
       "| 289 |  0.10612 | 30.0 |  4.93 | 0 | 0.428 | 6.095 | 65.1 | 6.3361 |  6 | 300 | 16.6 | 394.62 | 12.40 |\n",
       "| 290 |  0.06588 |  0.0 |  2.46 | 0 | 0.488 | 7.765 | 83.3 | 2.7410 |  3 | 193 | 17.8 | 395.56 |  7.56 |\n",
       "| 291 |  8.71675 |  0.0 | 18.10 | 0 | 0.693 | 6.471 | 98.8 | 1.7257 | 24 | 666 | 20.2 | 391.98 | 17.12 |\n",
       "| 292 |  0.17505 |  0.0 |  5.96 | 0 | 0.499 | 5.966 | 30.2 | 3.8473 |  5 | 279 | 19.2 | 393.43 | 10.13 |\n",
       "| 293 |  0.19133 | 22.0 |  5.86 | 0 | 0.431 | 5.605 | 70.2 | 7.9549 |  7 | 330 | 19.1 | 389.13 | 18.46 |\n",
       "| 294 |  1.51902 |  0.0 | 19.58 | 1 | 0.605 | 8.375 | 93.9 | 2.1620 |  5 | 403 | 14.7 | 388.45 |  3.32 |\n",
       "| 295 |  0.14231 |  0.0 | 10.01 | 0 | 0.547 | 6.254 | 84.2 | 2.2565 |  6 | 432 | 17.8 | 388.74 | 10.45 |\n",
       "| 296 |  0.03584 | 80.0 |  3.37 | 0 | 0.398 | 6.290 | 17.8 | 6.6115 |  4 | 337 | 16.1 | 396.90 |  4.67 |\n",
       "| 297 |  0.09266 | 34.0 |  6.09 | 0 | 0.433 | 6.495 | 18.4 | 5.4917 |  7 | 329 | 16.1 | 383.61 |  8.67 |\n",
       "| 298 |  0.44791 |  0.0 |  6.20 | 1 | 0.507 | 6.726 | 66.5 | 3.6519 |  8 | 307 | 17.4 | 360.20 |  8.05 |\n",
       "| 299 |  0.02177 | 82.5 |  2.03 | 0 | 0.415 | 7.610 | 15.7 | 6.2700 |  2 | 348 | 14.7 | 395.38 |  3.11 |\n",
       "| 300 |  0.01301 | 35.0 |  1.52 | 0 | 0.442 | 7.241 | 49.3 | 7.0379 |  1 | 284 | 15.5 | 394.74 |  5.49 |\n",
       "| 301 |  0.32982 |  0.0 | 21.89 | 0 | 0.624 | 5.822 | 95.4 | 2.4699 |  4 | 437 | 21.2 | 388.69 | 15.03 |\n",
       "| 302 |  0.01439 | 60.0 |  2.93 | 0 | 0.401 | 6.604 | 18.8 | 6.2196 |  1 | 265 | 15.6 | 376.70 |  4.38 |\n",
       "| 303 |  0.04981 | 21.0 |  5.64 | 0 | 0.439 | 5.998 | 21.4 | 6.8147 |  4 | 243 | 16.8 | 396.90 |  8.43 |\n",
       "\n"
      ],
      "text/plain": [
       "    CRIM     ZN   INDUS CHAS1 NOX    RM    AGE  DIS    RAD TAX PTRATIO B     \n",
       "1    0.33045  0.0  6.20 0     0.5070 6.086 61.5 3.6519  8  307 17.4    376.75\n",
       "2    1.65660  0.0 19.58 0     0.8710 6.122 97.3 1.6180  5  403 14.7    372.80\n",
       "3    0.07978 40.0  6.41 0     0.4470 6.482 32.1 4.1403  4  254 17.6    396.90\n",
       "4    0.04544  0.0  3.24 0     0.4600 6.144 32.2 5.8736  4  430 16.9    368.57\n",
       "5    0.06076  0.0 11.93 0     0.5730 6.976 91.0 2.1675  1  273 21.0    396.90\n",
       "6    0.21977  0.0  6.91 0     0.4480 5.602 62.0 6.0877  3  233 17.9    396.90\n",
       "7    0.05561 70.0  2.24 0     0.4000 7.041 10.0 7.8278  5  358 14.8    371.58\n",
       "8    0.19186  0.0  7.38 0     0.4930 6.431 14.7 5.4159  5  287 19.6    393.68\n",
       "9    0.17004 12.5  7.87 0     0.5240 6.004 85.9 6.5921  5  311 15.2    386.71\n",
       "10   1.19294  0.0 21.89 0     0.6240 6.326 97.7 2.2710  4  437 21.2    396.90\n",
       "11   0.27957  0.0  9.69 0     0.5850 5.926 42.6 2.3817  6  391 19.2    396.90\n",
       "12   0.11460 20.0  6.96 0     0.4640 6.538 58.7 3.9175  3  223 18.6    394.96\n",
       "13   0.16902  0.0 25.65 0     0.5810 5.986 88.4 1.9929  2  188 19.1    385.02\n",
       "14   0.10574  0.0 27.74 0     0.6090 5.983 98.8 1.8681  4  711 20.1    390.11\n",
       "15   0.52693  0.0  6.20 0     0.5040 8.725 83.0 2.8944  8  307 17.4    382.00\n",
       "16   0.11425  0.0 13.89 1     0.5500 6.373 92.4 3.3633  5  276 16.4    393.74\n",
       "17   0.19539  0.0 10.81 0     0.4130 6.245  6.2 5.2873  4  305 19.2    377.17\n",
       "18   0.03871 52.5  5.32 0     0.4050 6.209 31.3 7.3172  6  293 16.6    396.90\n",
       "19   0.03041  0.0  5.19 0     0.5150 5.895 59.6 5.6150  5  224 20.2    394.81\n",
       "20   0.17171 25.0  5.13 0     0.4530 5.966 93.4 6.8185  8  284 19.7    378.08\n",
       "21   0.12757 30.0  4.93 0     0.4280 6.393  7.8 7.0355  6  300 16.6    374.71\n",
       "22   0.12269  0.0  6.91 0     0.4480 6.069 40.0 5.7209  3  233 17.9    389.39\n",
       "23   0.36894 22.0  5.86 0     0.4310 8.259  8.4 8.9067  7  330 19.1    396.90\n",
       "24   0.05023 35.0  6.06 0     0.4379 5.706 28.4 6.6407  1  304 16.9    394.02\n",
       "25  25.94060  0.0 18.10 0     0.6790 5.304 89.1 1.6475 24  666 20.2    127.36\n",
       "26   2.81838  0.0 18.10 0     0.5320 5.762 40.3 4.0983 24  666 20.2    392.92\n",
       "27  11.16040  0.0 18.10 0     0.7400 6.629 94.6 2.1247 24  666 20.2    109.85\n",
       "28   1.05393  0.0  8.14 0     0.5380 5.935 29.3 4.4986  4  307 21.0    386.85\n",
       "29   0.32264  0.0 21.89 0     0.6240 5.942 93.5 1.9669  4  437 21.2    378.25\n",
       "30   0.26838  0.0  9.69 0     0.5850 5.794 70.6 2.8927  6  391 19.2    396.90\n",
       "⋮   ⋮        ⋮    ⋮     ⋮     ⋮      ⋮     ⋮    ⋮      ⋮   ⋮   ⋮       ⋮     \n",
       "274  1.80028  0.0 19.58 0     0.605  5.877 79.2 2.4259  5  403 14.7    227.61\n",
       "275  0.04741  0.0 11.93 0     0.573  6.030 80.8 2.5050  1  273 21.0    396.90\n",
       "276  0.24522  0.0  9.90 0     0.544  5.782 71.7 4.0317  4  304 18.4    396.90\n",
       "277  0.08265  0.0 13.92 0     0.437  6.127 18.4 5.5027  4  289 16.0    396.90\n",
       "278  0.05515 33.0  2.18 0     0.472  7.236 41.1 4.0220  7  222 18.4    393.68\n",
       "279  0.24980  0.0 21.89 0     0.624  5.857 98.2 1.6686  4  437 21.2    392.04\n",
       "280 24.80170  0.0 18.10 0     0.693  5.349 96.0 1.7028 24  666 20.2    396.90\n",
       "281  0.06617  0.0  3.24 0     0.460  5.868 25.8 5.2146  4  430 16.9    382.44\n",
       "282  0.12816 12.5  6.07 0     0.409  5.885 33.0 6.4980  4  345 18.9    396.90\n",
       "283  0.06162  0.0  4.39 0     0.442  5.898 52.3 8.0136  3  352 18.8    364.61\n",
       "284 10.23300  0.0 18.10 0     0.614  6.185 96.7 2.1705 24  666 20.2    379.70\n",
       "285  0.11432  0.0  8.56 0     0.520  6.781 71.3 2.8561  5  384 20.9    395.58\n",
       "286  1.15172  0.0  8.14 0     0.538  5.701 95.0 3.7872  4  307 21.0    358.77\n",
       "287  0.04379 80.0  3.37 0     0.398  5.787 31.1 6.6115  4  337 16.1    396.90\n",
       "288 13.35980  0.0 18.10 0     0.693  5.887 94.7 1.7821 24  666 20.2    396.90\n",
       "289  0.10612 30.0  4.93 0     0.428  6.095 65.1 6.3361  6  300 16.6    394.62\n",
       "290  0.06588  0.0  2.46 0     0.488  7.765 83.3 2.7410  3  193 17.8    395.56\n",
       "291  8.71675  0.0 18.10 0     0.693  6.471 98.8 1.7257 24  666 20.2    391.98\n",
       "292  0.17505  0.0  5.96 0     0.499  5.966 30.2 3.8473  5  279 19.2    393.43\n",
       "293  0.19133 22.0  5.86 0     0.431  5.605 70.2 7.9549  7  330 19.1    389.13\n",
       "294  1.51902  0.0 19.58 1     0.605  8.375 93.9 2.1620  5  403 14.7    388.45\n",
       "295  0.14231  0.0 10.01 0     0.547  6.254 84.2 2.2565  6  432 17.8    388.74\n",
       "296  0.03584 80.0  3.37 0     0.398  6.290 17.8 6.6115  4  337 16.1    396.90\n",
       "297  0.09266 34.0  6.09 0     0.433  6.495 18.4 5.4917  7  329 16.1    383.61\n",
       "298  0.44791  0.0  6.20 1     0.507  6.726 66.5 3.6519  8  307 17.4    360.20\n",
       "299  0.02177 82.5  2.03 0     0.415  7.610 15.7 6.2700  2  348 14.7    395.38\n",
       "300  0.01301 35.0  1.52 0     0.442  7.241 49.3 7.0379  1  284 15.5    394.74\n",
       "301  0.32982  0.0 21.89 0     0.624  5.822 95.4 2.4699  4  437 21.2    388.69\n",
       "302  0.01439 60.0  2.93 0     0.401  6.604 18.8 6.2196  1  265 15.6    376.70\n",
       "303  0.04981 21.0  5.64 0     0.439  5.998 21.4 6.8147  4  243 16.8    396.90\n",
       "    LSTAT\n",
       "1   10.88\n",
       "2   14.10\n",
       "3    7.19\n",
       "4    9.09\n",
       "5    5.64\n",
       "6   16.20\n",
       "7    4.74\n",
       "8    5.08\n",
       "9   17.10\n",
       "10  12.26\n",
       "11  13.59\n",
       "12   7.73\n",
       "13  14.81\n",
       "14  18.07\n",
       "15   4.63\n",
       "16  10.50\n",
       "17   7.54\n",
       "18   7.14\n",
       "19  10.56\n",
       "20  14.44\n",
       "21   5.19\n",
       "22   9.55\n",
       "23   3.54\n",
       "24  12.43\n",
       "25  26.64\n",
       "26  10.42\n",
       "27  23.27\n",
       "28   6.58\n",
       "29  16.90\n",
       "30  14.10\n",
       "⋮   ⋮    \n",
       "274 12.14\n",
       "275  7.88\n",
       "276 15.94\n",
       "277  8.58\n",
       "278  6.93\n",
       "279 21.32\n",
       "280 19.77\n",
       "281  9.97\n",
       "282  8.79\n",
       "283 12.67\n",
       "284 18.03\n",
       "285  7.67\n",
       "286 18.35\n",
       "287 10.24\n",
       "288 16.35\n",
       "289 12.40\n",
       "290  7.56\n",
       "291 17.12\n",
       "292 10.13\n",
       "293 18.46\n",
       "294  3.32\n",
       "295 10.45\n",
       "296  4.67\n",
       "297  8.67\n",
       "298  8.05\n",
       "299  3.11\n",
       "300  5.49\n",
       "301 15.03\n",
       "302  4.38\n",
       "303  8.43"
      ]
     },
     "metadata": {},
     "output_type": "display_data"
    }
   ],
   "source": [
    "boston_X_train <- model.matrix(MEDV ~ ., data = training_boston)[, -1]\n",
    "boston_Y_train <- training_boston %>% select(MEDV) %>% as.matrix()\n",
    "\n",
    "boston_X_test <- model.matrix(MEDV ~ ., data = testing_boston)[, -1]\n",
    "boston_Y_test <- testing_boston %>% select(MEDV) %>% as.matrix()\n",
    "\n",
    "boston_X_train"
   ]
  },
  {
   "cell_type": "markdown",
   "id": "e89d3241-ced7-4a78-9874-8294c9e69f6d",
   "metadata": {},
   "source": [
    "Using `cv.glmnet` to do cross validation to find the best lambda ($\\lambda$)"
   ]
  },
  {
   "cell_type": "code",
   "execution_count": 17,
   "id": "b689b75f-3702-4cc8-8bfb-28dcb1ac66ce",
   "metadata": {},
   "outputs": [
    {
     "data": {
      "text/plain": [
       "\n",
       "Call:  cv.glmnet(x = boston_X_train, y = boston_Y_train, alpha = 1) \n",
       "\n",
       "Measure: Mean-Squared Error \n",
       "\n",
       "    Lambda Index Measure    SE Nonzero\n",
       "min 0.0157    67   17.91 3.453      13\n",
       "1se 0.7102    26   21.14 4.624       6"
      ]
     },
     "metadata": {},
     "output_type": "display_data"
    }
   ],
   "source": [
    "lasso_cv <-\n",
    "    cv.glmnet(boston_X_train, \n",
    "              boston_Y_train, \n",
    "              alpha = 1)\n",
    "\n",
    "lasso_cv"
   ]
  },
  {
   "cell_type": "markdown",
   "id": "abd2257e-ba3c-4204-99cf-d0c049136922",
   "metadata": {},
   "source": [
    "Plot: CV Mean square error (MSE) over a range of $\\log(\\lambda)$ values"
   ]
  },
  {
   "cell_type": "code",
   "execution_count": 18,
   "id": "0452d832-2ae5-45b2-a3aa-93066567b91f",
   "metadata": {
    "tags": []
   },
   "outputs": [
    {
     "data": {
      "image/png": "[encoded data removed]",
      "text/plain": [
       "Plot with title “Lambda selection by CV with LASSO\n",
       "\n",
       "”"
      ]
     },
     "metadata": {
      "image/png": {
       "height": 360,
       "width": 480
      }
     },
     "output_type": "display_data"
    }
   ],
   "source": [
    "plot(lasso_cv, main = \"Lambda selection by CV with LASSO\\n\\n\")"
   ]
  },
  {
   "cell_type": "markdown",
   "id": "6eb767e1-4a42-4e6a-872f-4bc7162f7871",
   "metadata": {},
   "source": [
    "Obtaining $\\lambda$ that minimizes MSE ($\\lambda_{min}$) and the largest $\\lambda$ such that it is within one standard error of the minimum MSE ($\\lambda_{1se}$)."
   ]
  },
  {
   "cell_type": "code",
   "execution_count": 19,
   "id": "14dc084d-1974-4dd3-b418-23753b321620",
   "metadata": {},
   "outputs": [],
   "source": [
    "lambda_min <- lasso_cv$lambda.min\n",
    "lambda_1se <- lasso_cv$lambda.1se"
   ]
  },
  {
   "cell_type": "markdown",
   "id": "08f810ba-2cfa-40e3-baad-7ef1086e60fa",
   "metadata": {},
   "source": [
    "Plot: Estimated regression coefficients over the $\\lambda$-grid where the vertical red line is $\\log(\\lambda_{min})$ and the blue line is $\\log(\\lambda_{1se})$"
   ]
  },
  {
   "cell_type": "code",
   "execution_count": 20,
   "id": "06d9ecf3-ffb6-4319-b7c3-40db186c8d7d",
   "metadata": {},
   "outputs": [
    {
     "data": {
      "image/png": "[encoded data removed]",
      "text/plain": [
       "plot without title"
      ]
     },
     "metadata": {
      "image/png": {
       "height": 360,
       "width": 480
      }
     },
     "output_type": "display_data"
    }
   ],
   "source": [
    "plot(lasso_cv$glmnet.fit, \"lambda\")\n",
    "abline(v = log(lambda_min), col = \"red\", lwd = 3, lty = 2)\n",
    "abline(v = log(lambda_1se), col = \"blue\", lwd = 3, lty = 2)"
   ]
  },
  {
   "cell_type": "markdown",
   "id": "08d2ea18-0310-4cb9-8cc7-8b4c7df28b6b",
   "metadata": {},
   "source": [
    "Fitting lasso model using $\\lambda_{min}$ and $\\lambda_{1se}$"
   ]
  },
  {
   "cell_type": "code",
   "execution_count": 21,
   "id": "95ac28be-e59f-4c2a-9282-367ac073bfdf",
   "metadata": {},
   "outputs": [],
   "source": [
    "# Using lambda.min\n",
    "boston_LASSO_min <- glmnet(\n",
    "  x = boston_X_train, y = boston_Y_train,\n",
    "  alpha = 1,\n",
    "  lambda = lambda_min\n",
    ")\n",
    "\n",
    "# Using lambda.1se\n",
    "boston_LASSO_1se <- glmnet(\n",
    "  x = boston_X_train, y = boston_Y_train,\n",
    "  alpha = 1,\n",
    "  lambda = lambda_1se\n",
    ")"
   ]
  },
  {
   "cell_type": "markdown",
   "id": "5d2b3a1d-3836-43d0-bfd2-047ea79ea90b",
   "metadata": {},
   "source": [
    "Using `predict` to get fitted values of test set using our Lasso models"
   ]
  },
  {
   "cell_type": "code",
   "execution_count": 22,
   "id": "d70e86d3-153a-4544-a367-4f4ef5fa66d9",
   "metadata": {},
   "outputs": [],
   "source": [
    "boston_test_LASSO_min <- predict(boston_LASSO_min,\n",
    "  newx = boston_X_test)\n",
    "\n",
    "boston_test_LASSO_1se <- predict(boston_LASSO_1se,\n",
    "  newx = boston_X_test)"
   ]
  },
  {
   "cell_type": "markdown",
   "id": "fd69c4a8-a8af-4efa-b5ce-c6f102389961",
   "metadata": {},
   "source": [
    "Calculating out-of-sample error (RMSE)"
   ]
  },
  {
   "cell_type": "code",
   "execution_count": 23,
   "id": "7b498d31-af93-44f4-87ba-a4ee64d075c5",
   "metadata": {},
   "outputs": [
    {
     "data": {
      "text/html": [
       "<table class=\"dataframe\">\n",
       "<caption>A tibble: 2 × 2</caption>\n",
       "<thead>\n",
       "\t<tr><th scope=col>Model</th><th scope=col>R_MSE</th></tr>\n",
       "\t<tr><th scope=col>&lt;chr&gt;</th><th scope=col>&lt;dbl&gt;</th></tr>\n",
       "</thead>\n",
       "<tbody>\n",
       "\t<tr><td>LASSO Regression with minimum MSE        </td><td>4.769357</td></tr>\n",
       "\t<tr><td>LASSO Regression with 1 SE of minimum MSE</td><td>4.869720</td></tr>\n",
       "</tbody>\n",
       "</table>\n"
      ],
      "text/latex": [
       "A tibble: 2 × 2\n",
       "\\begin{tabular}{ll}\n",
       " Model & R\\_MSE\\\\\n",
       " <chr> & <dbl>\\\\\n",
       "\\hline\n",
       "\t LASSO Regression with minimum MSE         & 4.769357\\\\\n",
       "\t LASSO Regression with 1 SE of minimum MSE & 4.869720\\\\\n",
       "\\end{tabular}\n"
      ],
      "text/markdown": [
       "\n",
       "A tibble: 2 × 2\n",
       "\n",
       "| Model &lt;chr&gt; | R_MSE &lt;dbl&gt; |\n",
       "|---|---|\n",
       "| LASSO Regression with minimum MSE         | 4.769357 |\n",
       "| LASSO Regression with 1 SE of minimum MSE | 4.869720 |\n",
       "\n"
      ],
      "text/plain": [
       "  Model                                     R_MSE   \n",
       "1 LASSO Regression with minimum MSE         4.769357\n",
       "2 LASSO Regression with 1 SE of minimum MSE 4.869720"
      ]
     },
     "metadata": {},
     "output_type": "display_data"
    }
   ],
   "source": [
    "boston_LASSO_MSE <- rbind(\n",
    "    tibble(\n",
    "    Model = \"LASSO Regression with minimum MSE\",\n",
    "    R_MSE = rmse(\n",
    "      preds = boston_test_LASSO_min,\n",
    "      actuals = testing_boston$MEDV))\n",
    "    ,\n",
    "    tibble(\n",
    "    Model = \"LASSO Regression with 1 SE of minimum MSE\",\n",
    "    R_MSE = rmse(\n",
    "      preds = boston_test_LASSO_1se,\n",
    "      actuals = testing_boston$MEDV)\n",
    "    )\n",
    ")\n",
    "boston_LASSO_MSE"
   ]
  },
  {
   "cell_type": "markdown",
   "id": "40f2a6be-731c-4d48-aaf6-b3a9702cbf48",
   "metadata": {},
   "source": [
    "### Comparing RMSE between all predictive models"
   ]
  },
  {
   "cell_type": "code",
   "execution_count": 24,
   "id": "bc6cd4e1-13a9-4f44-994a-b7fe3994bc15",
   "metadata": {},
   "outputs": [
    {
     "data": {
      "text/html": [
       "<table class=\"dataframe\">\n",
       "<caption>A tibble: 5 × 2</caption>\n",
       "<thead>\n",
       "\t<tr><th scope=col>Model</th><th scope=col>R_MSE</th></tr>\n",
       "\t<tr><th scope=col>&lt;chr&gt;</th><th scope=col>&lt;dbl&gt;</th></tr>\n",
       "</thead>\n",
       "<tbody>\n",
       "\t<tr><td>OLS Full Regression                      </td><td>4.768423</td></tr>\n",
       "\t<tr><td>OLS Reduced Regression Forward           </td><td>4.777599</td></tr>\n",
       "\t<tr><td>OLS Reduced Regression Backward          </td><td>4.777599</td></tr>\n",
       "\t<tr><td>LASSO Regression with minimum MSE        </td><td>4.769357</td></tr>\n",
       "\t<tr><td>LASSO Regression with 1 SE of minimum MSE</td><td>4.869720</td></tr>\n",
       "</tbody>\n",
       "</table>\n"
      ],
      "text/latex": [
       "A tibble: 5 × 2\n",
       "\\begin{tabular}{ll}\n",
       " Model & R\\_MSE\\\\\n",
       " <chr> & <dbl>\\\\\n",
       "\\hline\n",
       "\t OLS Full Regression                       & 4.768423\\\\\n",
       "\t OLS Reduced Regression Forward            & 4.777599\\\\\n",
       "\t OLS Reduced Regression Backward           & 4.777599\\\\\n",
       "\t LASSO Regression with minimum MSE         & 4.769357\\\\\n",
       "\t LASSO Regression with 1 SE of minimum MSE & 4.869720\\\\\n",
       "\\end{tabular}\n"
      ],
      "text/markdown": [
       "\n",
       "A tibble: 5 × 2\n",
       "\n",
       "| Model &lt;chr&gt; | R_MSE &lt;dbl&gt; |\n",
       "|---|---|\n",
       "| OLS Full Regression                       | 4.768423 |\n",
       "| OLS Reduced Regression Forward            | 4.777599 |\n",
       "| OLS Reduced Regression Backward           | 4.777599 |\n",
       "| LASSO Regression with minimum MSE         | 4.769357 |\n",
       "| LASSO Regression with 1 SE of minimum MSE | 4.869720 |\n",
       "\n"
      ],
      "text/plain": [
       "  Model                                     R_MSE   \n",
       "1 OLS Full Regression                       4.768423\n",
       "2 OLS Reduced Regression Forward            4.777599\n",
       "3 OLS Reduced Regression Backward           4.777599\n",
       "4 LASSO Regression with minimum MSE         4.769357\n",
       "5 LASSO Regression with 1 SE of minimum MSE 4.869720"
      ]
     },
     "metadata": {},
     "output_type": "display_data"
    }
   ],
   "source": [
    "rmse_models <- rbind(boston_OLS_MSE, \n",
    "                     boston_R_MSE_forward, \n",
    "                     boston_R_MSE_backward,\n",
    "                     boston_LASSO_MSE)\n",
    "\n",
    "rmse_models"
   ]
  }
 ],
 "metadata": {
  "kernelspec": {
   "display_name": "R",
   "language": "R",
   "name": "ir"
  },
  "language_info": {
   "codemirror_mode": "r",
   "file_extension": ".r",
   "mimetype": "text/x-r-source",
   "name": "R",
   "pygments_lexer": "r",
   "version": "4.1.2"
  }
 },
 "nbformat": 4,
 "nbformat_minor": 5
}
